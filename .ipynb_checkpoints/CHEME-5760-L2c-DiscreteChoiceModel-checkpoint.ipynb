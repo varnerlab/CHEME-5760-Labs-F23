{
 "cells": [
  {
   "cell_type": "markdown",
   "id": "a7efa0ef-9154-4e92-ade4-9246251f7b02",
   "metadata": {},
   "source": [
    "# Discrete Choice Models\n",
    "Fill me in"
   ]
  },
  {
   "cell_type": "markdown",
   "id": "e4e070c1-013c-4a5f-8376-96638ba5620e",
   "metadata": {},
   "source": [
    "## Setup"
   ]
  },
  {
   "cell_type": "code",
   "execution_count": 1,
   "id": "e0c0684d-7882-48e4-8df1-3be69c6c42f1",
   "metadata": {
    "tags": []
   },
   "outputs": [
    {
     "name": "stderr",
     "output_type": "stream",
     "text": [
      "\u001b[32m\u001b[1m  Activating\u001b[22m\u001b[39m project at `~/Desktop/julia_work/CHEME-5760-Labs-F23`\n",
      "\u001b[32m\u001b[1m    Updating\u001b[22m\u001b[39m registry at `~/.julia/registries/General.toml`\n",
      "\u001b[32m\u001b[1m    Updating\u001b[22m\u001b[39m git-repo `https://github.com/varnerlab/VLDecisionsPackage.jl.git`\n",
      "\u001b[32m\u001b[1m  No Changes\u001b[22m\u001b[39m to `~/Desktop/julia_work/CHEME-5760-Labs-F23/Project.toml`\n",
      "\u001b[32m\u001b[1m  No Changes\u001b[22m\u001b[39m to `~/Desktop/julia_work/CHEME-5760-Labs-F23/Manifest.toml`\n"
     ]
    },
    {
     "data": {
      "text/plain": [
       "TravelChoiceSurveyDataSet (generic function with 1 method)"
      ]
     },
     "execution_count": 1,
     "metadata": {},
     "output_type": "execute_result"
    }
   ],
   "source": [
    "include(\"Include.jl\")"
   ]
  },
  {
   "cell_type": "markdown",
   "id": "4601aad6-a2cb-4d57-a2d5-58983d7ace15",
   "metadata": {},
   "source": [
    "## Data\n",
    "The dataset explored here was downloaed from the data repository:\n",
    "* [S. van Cranenburgh, “Small value-of-time experiment, Netherlands.” 4TU.Centre for Research Data, Oct. 09, 2018, doi: 10.4121/UUID:1CCCA375-68CA-4CB6-8FC0-926712F50404](https://doi.org/10.4121/uuid:1ccca375-68ca-4cb6-8fc0-926712f50404).\n",
    "\n",
    "The data was previously discussed in the publication:\n",
    "* [Sander van Cranenburgh, John M. Rose, Caspar G. Chorus (2018) On the robustness of efficient experimental designs towards the underlying decision rule. _Transportation Research Part A: Policy and Practice_ 109: 50-64,ISSN 0965-8564, https://doi.org/10.1016/j.tra.2018.01.001](https://www.sciencedirect.com/science/article/pii/S096585641730304X)"
   ]
  },
  {
   "cell_type": "code",
   "execution_count": 2,
   "id": "f92cc61a-69d3-46fd-8369-3653380825a2",
   "metadata": {
    "tags": []
   },
   "outputs": [
    {
     "data": {
      "text/html": [
       "<div><div style = \"float: left;\"><span>1060×18 DataFrame</span></div><div style = \"float: right;\"><span style = \"font-style: italic;\">1035 rows omitted</span></div><div style = \"clear: both;\"></div></div><div class = \"data-frame\" style = \"overflow-x: scroll;\"><table class = \"data-frame\" style = \"margin-bottom: 6px;\"><thead><tr class = \"header\"><th class = \"rowNumber\" style = \"font-weight: bold; text-align: right;\">Row</th><th style = \"text-align: left;\">OBS</th><th style = \"text-align: left;\">ID</th><th style = \"text-align: left;\">CS</th><th style = \"text-align: left;\">CSRUM</th><th style = \"text-align: left;\">CSPRRM</th><th style = \"text-align: left;\">TT1</th><th style = \"text-align: left;\">TC1</th><th style = \"text-align: left;\">TT2</th><th style = \"text-align: left;\">TC2</th><th style = \"text-align: left;\">TT3</th><th style = \"text-align: left;\">TC3</th><th style = \"text-align: left;\">Choice</th><th style = \"text-align: left;\">Sex</th><th style = \"text-align: left;\">Age</th><th style = \"text-align: left;\">Edu</th><th style = \"text-align: left;\">IncHH</th><th style = \"text-align: left;\">Urb</th><th style = \"text-align: left;\">SClass</th></tr><tr class = \"subheader headerLastRow\"><th class = \"rowNumber\" style = \"font-weight: bold; text-align: right;\"></th><th title = \"Int64\" style = \"text-align: left;\">Int64</th><th title = \"Int64\" style = \"text-align: left;\">Int64</th><th title = \"Int64\" style = \"text-align: left;\">Int64</th><th title = \"Int64\" style = \"text-align: left;\">Int64</th><th title = \"Int64\" style = \"text-align: left;\">Int64</th><th title = \"Int64\" style = \"text-align: left;\">Int64</th><th title = \"Int64\" style = \"text-align: left;\">Int64</th><th title = \"Int64\" style = \"text-align: left;\">Int64</th><th title = \"Int64\" style = \"text-align: left;\">Int64</th><th title = \"Int64\" style = \"text-align: left;\">Int64</th><th title = \"Int64\" style = \"text-align: left;\">Int64</th><th title = \"Int64\" style = \"text-align: left;\">Int64</th><th title = \"Int64\" style = \"text-align: left;\">Int64</th><th title = \"Int64\" style = \"text-align: left;\">Int64</th><th title = \"Int64\" style = \"text-align: left;\">Int64</th><th title = \"Int64\" style = \"text-align: left;\">Int64</th><th title = \"Int64\" style = \"text-align: left;\">Int64</th><th title = \"Int64\" style = \"text-align: left;\">Int64</th></tr></thead><tbody><tr><td class = \"rowNumber\" style = \"font-weight: bold; text-align: right;\">1</td><td style = \"text-align: right;\">1</td><td style = \"text-align: right;\">1</td><td style = \"text-align: right;\">1</td><td style = \"text-align: right;\">1</td><td style = \"text-align: right;\">1</td><td style = \"text-align: right;\">23</td><td style = \"text-align: right;\">6</td><td style = \"text-align: right;\">27</td><td style = \"text-align: right;\">4</td><td style = \"text-align: right;\">35</td><td style = \"text-align: right;\">3</td><td style = \"text-align: right;\">3</td><td style = \"text-align: right;\">2</td><td style = \"text-align: right;\">47</td><td style = \"text-align: right;\">6</td><td style = \"text-align: right;\">16</td><td style = \"text-align: right;\">3</td><td style = \"text-align: right;\">2</td></tr><tr><td class = \"rowNumber\" style = \"font-weight: bold; text-align: right;\">2</td><td style = \"text-align: right;\">2</td><td style = \"text-align: right;\">1</td><td style = \"text-align: right;\">2</td><td style = \"text-align: right;\">0</td><td style = \"text-align: right;\">1</td><td style = \"text-align: right;\">27</td><td style = \"text-align: right;\">5</td><td style = \"text-align: right;\">35</td><td style = \"text-align: right;\">4</td><td style = \"text-align: right;\">23</td><td style = \"text-align: right;\">6</td><td style = \"text-align: right;\">2</td><td style = \"text-align: right;\">2</td><td style = \"text-align: right;\">47</td><td style = \"text-align: right;\">6</td><td style = \"text-align: right;\">16</td><td style = \"text-align: right;\">3</td><td style = \"text-align: right;\">2</td></tr><tr><td class = \"rowNumber\" style = \"font-weight: bold; text-align: right;\">3</td><td style = \"text-align: right;\">3</td><td style = \"text-align: right;\">1</td><td style = \"text-align: right;\">3</td><td style = \"text-align: right;\">1</td><td style = \"text-align: right;\">0</td><td style = \"text-align: right;\">35</td><td style = \"text-align: right;\">3</td><td style = \"text-align: right;\">23</td><td style = \"text-align: right;\">5</td><td style = \"text-align: right;\">31</td><td style = \"text-align: right;\">4</td><td style = \"text-align: right;\">1</td><td style = \"text-align: right;\">2</td><td style = \"text-align: right;\">47</td><td style = \"text-align: right;\">6</td><td style = \"text-align: right;\">16</td><td style = \"text-align: right;\">3</td><td style = \"text-align: right;\">2</td></tr><tr><td class = \"rowNumber\" style = \"font-weight: bold; text-align: right;\">4</td><td style = \"text-align: right;\">4</td><td style = \"text-align: right;\">1</td><td style = \"text-align: right;\">4</td><td style = \"text-align: right;\">0</td><td style = \"text-align: right;\">1</td><td style = \"text-align: right;\">27</td><td style = \"text-align: right;\">4</td><td style = \"text-align: right;\">23</td><td style = \"text-align: right;\">5</td><td style = \"text-align: right;\">35</td><td style = \"text-align: right;\">3</td><td style = \"text-align: right;\">3</td><td style = \"text-align: right;\">2</td><td style = \"text-align: right;\">47</td><td style = \"text-align: right;\">6</td><td style = \"text-align: right;\">16</td><td style = \"text-align: right;\">3</td><td style = \"text-align: right;\">2</td></tr><tr><td class = \"rowNumber\" style = \"font-weight: bold; text-align: right;\">5</td><td style = \"text-align: right;\">5</td><td style = \"text-align: right;\">1</td><td style = \"text-align: right;\">5</td><td style = \"text-align: right;\">1</td><td style = \"text-align: right;\">0</td><td style = \"text-align: right;\">35</td><td style = \"text-align: right;\">3</td><td style = \"text-align: right;\">27</td><td style = \"text-align: right;\">6</td><td style = \"text-align: right;\">31</td><td style = \"text-align: right;\">5</td><td style = \"text-align: right;\">1</td><td style = \"text-align: right;\">2</td><td style = \"text-align: right;\">47</td><td style = \"text-align: right;\">6</td><td style = \"text-align: right;\">16</td><td style = \"text-align: right;\">3</td><td style = \"text-align: right;\">2</td></tr><tr><td class = \"rowNumber\" style = \"font-weight: bold; text-align: right;\">6</td><td style = \"text-align: right;\">6</td><td style = \"text-align: right;\">1</td><td style = \"text-align: right;\">6</td><td style = \"text-align: right;\">0</td><td style = \"text-align: right;\">1</td><td style = \"text-align: right;\">23</td><td style = \"text-align: right;\">6</td><td style = \"text-align: right;\">27</td><td style = \"text-align: right;\">5</td><td style = \"text-align: right;\">35</td><td style = \"text-align: right;\">3</td><td style = \"text-align: right;\">3</td><td style = \"text-align: right;\">2</td><td style = \"text-align: right;\">47</td><td style = \"text-align: right;\">6</td><td style = \"text-align: right;\">16</td><td style = \"text-align: right;\">3</td><td style = \"text-align: right;\">2</td></tr><tr><td class = \"rowNumber\" style = \"font-weight: bold; text-align: right;\">7</td><td style = \"text-align: right;\">7</td><td style = \"text-align: right;\">1</td><td style = \"text-align: right;\">7</td><td style = \"text-align: right;\">1</td><td style = \"text-align: right;\">0</td><td style = \"text-align: right;\">35</td><td style = \"text-align: right;\">3</td><td style = \"text-align: right;\">31</td><td style = \"text-align: right;\">5</td><td style = \"text-align: right;\">23</td><td style = \"text-align: right;\">6</td><td style = \"text-align: right;\">1</td><td style = \"text-align: right;\">2</td><td style = \"text-align: right;\">47</td><td style = \"text-align: right;\">6</td><td style = \"text-align: right;\">16</td><td style = \"text-align: right;\">3</td><td style = \"text-align: right;\">2</td></tr><tr><td class = \"rowNumber\" style = \"font-weight: bold; text-align: right;\">8</td><td style = \"text-align: right;\">8</td><td style = \"text-align: right;\">1</td><td style = \"text-align: right;\">8</td><td style = \"text-align: right;\">0</td><td style = \"text-align: right;\">0</td><td style = \"text-align: right;\">27</td><td style = \"text-align: right;\">5</td><td style = \"text-align: right;\">23</td><td style = \"text-align: right;\">6</td><td style = \"text-align: right;\">31</td><td style = \"text-align: right;\">3</td><td style = \"text-align: right;\">3</td><td style = \"text-align: right;\">2</td><td style = \"text-align: right;\">47</td><td style = \"text-align: right;\">6</td><td style = \"text-align: right;\">16</td><td style = \"text-align: right;\">3</td><td style = \"text-align: right;\">2</td></tr><tr><td class = \"rowNumber\" style = \"font-weight: bold; text-align: right;\">9</td><td style = \"text-align: right;\">9</td><td style = \"text-align: right;\">1</td><td style = \"text-align: right;\">9</td><td style = \"text-align: right;\">0</td><td style = \"text-align: right;\">0</td><td style = \"text-align: right;\">35</td><td style = \"text-align: right;\">3</td><td style = \"text-align: right;\">31</td><td style = \"text-align: right;\">4</td><td style = \"text-align: right;\">27</td><td style = \"text-align: right;\">6</td><td style = \"text-align: right;\">1</td><td style = \"text-align: right;\">2</td><td style = \"text-align: right;\">47</td><td style = \"text-align: right;\">6</td><td style = \"text-align: right;\">16</td><td style = \"text-align: right;\">3</td><td style = \"text-align: right;\">2</td></tr><tr><td class = \"rowNumber\" style = \"font-weight: bold; text-align: right;\">10</td><td style = \"text-align: right;\">10</td><td style = \"text-align: right;\">1</td><td style = \"text-align: right;\">10</td><td style = \"text-align: right;\">0</td><td style = \"text-align: right;\">0</td><td style = \"text-align: right;\">23</td><td style = \"text-align: right;\">6</td><td style = \"text-align: right;\">27</td><td style = \"text-align: right;\">4</td><td style = \"text-align: right;\">31</td><td style = \"text-align: right;\">3</td><td style = \"text-align: right;\">3</td><td style = \"text-align: right;\">2</td><td style = \"text-align: right;\">47</td><td style = \"text-align: right;\">6</td><td style = \"text-align: right;\">16</td><td style = \"text-align: right;\">3</td><td style = \"text-align: right;\">2</td></tr><tr><td class = \"rowNumber\" style = \"font-weight: bold; text-align: right;\">11</td><td style = \"text-align: right;\">11</td><td style = \"text-align: right;\">2</td><td style = \"text-align: right;\">1</td><td style = \"text-align: right;\">1</td><td style = \"text-align: right;\">1</td><td style = \"text-align: right;\">23</td><td style = \"text-align: right;\">6</td><td style = \"text-align: right;\">27</td><td style = \"text-align: right;\">4</td><td style = \"text-align: right;\">35</td><td style = \"text-align: right;\">3</td><td style = \"text-align: right;\">1</td><td style = \"text-align: right;\">2</td><td style = \"text-align: right;\">56</td><td style = \"text-align: right;\">4</td><td style = \"text-align: right;\">13</td><td style = \"text-align: right;\">4</td><td style = \"text-align: right;\">3</td></tr><tr><td class = \"rowNumber\" style = \"font-weight: bold; text-align: right;\">12</td><td style = \"text-align: right;\">12</td><td style = \"text-align: right;\">2</td><td style = \"text-align: right;\">2</td><td style = \"text-align: right;\">0</td><td style = \"text-align: right;\">1</td><td style = \"text-align: right;\">27</td><td style = \"text-align: right;\">5</td><td style = \"text-align: right;\">35</td><td style = \"text-align: right;\">4</td><td style = \"text-align: right;\">23</td><td style = \"text-align: right;\">6</td><td style = \"text-align: right;\">1</td><td style = \"text-align: right;\">2</td><td style = \"text-align: right;\">56</td><td style = \"text-align: right;\">4</td><td style = \"text-align: right;\">13</td><td style = \"text-align: right;\">4</td><td style = \"text-align: right;\">3</td></tr><tr><td class = \"rowNumber\" style = \"font-weight: bold; text-align: right;\">13</td><td style = \"text-align: right;\">13</td><td style = \"text-align: right;\">2</td><td style = \"text-align: right;\">3</td><td style = \"text-align: right;\">1</td><td style = \"text-align: right;\">0</td><td style = \"text-align: right;\">35</td><td style = \"text-align: right;\">3</td><td style = \"text-align: right;\">23</td><td style = \"text-align: right;\">5</td><td style = \"text-align: right;\">31</td><td style = \"text-align: right;\">4</td><td style = \"text-align: right;\">1</td><td style = \"text-align: right;\">2</td><td style = \"text-align: right;\">56</td><td style = \"text-align: right;\">4</td><td style = \"text-align: right;\">13</td><td style = \"text-align: right;\">4</td><td style = \"text-align: right;\">3</td></tr><tr><td style = \"text-align: right;\">&vellip;</td><td style = \"text-align: right;\">&vellip;</td><td style = \"text-align: right;\">&vellip;</td><td style = \"text-align: right;\">&vellip;</td><td style = \"text-align: right;\">&vellip;</td><td style = \"text-align: right;\">&vellip;</td><td style = \"text-align: right;\">&vellip;</td><td style = \"text-align: right;\">&vellip;</td><td style = \"text-align: right;\">&vellip;</td><td style = \"text-align: right;\">&vellip;</td><td style = \"text-align: right;\">&vellip;</td><td style = \"text-align: right;\">&vellip;</td><td style = \"text-align: right;\">&vellip;</td><td style = \"text-align: right;\">&vellip;</td><td style = \"text-align: right;\">&vellip;</td><td style = \"text-align: right;\">&vellip;</td><td style = \"text-align: right;\">&vellip;</td><td style = \"text-align: right;\">&vellip;</td><td style = \"text-align: right;\">&vellip;</td></tr><tr><td class = \"rowNumber\" style = \"font-weight: bold; text-align: right;\">1049</td><td style = \"text-align: right;\">1049</td><td style = \"text-align: right;\">105</td><td style = \"text-align: right;\">9</td><td style = \"text-align: right;\">0</td><td style = \"text-align: right;\">0</td><td style = \"text-align: right;\">35</td><td style = \"text-align: right;\">3</td><td style = \"text-align: right;\">31</td><td style = \"text-align: right;\">4</td><td style = \"text-align: right;\">27</td><td style = \"text-align: right;\">6</td><td style = \"text-align: right;\">2</td><td style = \"text-align: right;\">1</td><td style = \"text-align: right;\">31</td><td style = \"text-align: right;\">4</td><td style = \"text-align: right;\">15</td><td style = \"text-align: right;\">1</td><td style = \"text-align: right;\">2</td></tr><tr><td class = \"rowNumber\" style = \"font-weight: bold; text-align: right;\">1050</td><td style = \"text-align: right;\">1050</td><td style = \"text-align: right;\">105</td><td style = \"text-align: right;\">10</td><td style = \"text-align: right;\">0</td><td style = \"text-align: right;\">0</td><td style = \"text-align: right;\">23</td><td style = \"text-align: right;\">6</td><td style = \"text-align: right;\">27</td><td style = \"text-align: right;\">4</td><td style = \"text-align: right;\">31</td><td style = \"text-align: right;\">3</td><td style = \"text-align: right;\">2</td><td style = \"text-align: right;\">1</td><td style = \"text-align: right;\">31</td><td style = \"text-align: right;\">4</td><td style = \"text-align: right;\">15</td><td style = \"text-align: right;\">1</td><td style = \"text-align: right;\">2</td></tr><tr><td class = \"rowNumber\" style = \"font-weight: bold; text-align: right;\">1051</td><td style = \"text-align: right;\">1051</td><td style = \"text-align: right;\">106</td><td style = \"text-align: right;\">1</td><td style = \"text-align: right;\">1</td><td style = \"text-align: right;\">1</td><td style = \"text-align: right;\">23</td><td style = \"text-align: right;\">6</td><td style = \"text-align: right;\">27</td><td style = \"text-align: right;\">4</td><td style = \"text-align: right;\">35</td><td style = \"text-align: right;\">3</td><td style = \"text-align: right;\">2</td><td style = \"text-align: right;\">2</td><td style = \"text-align: right;\">36</td><td style = \"text-align: right;\">6</td><td style = \"text-align: right;\">19</td><td style = \"text-align: right;\">2</td><td style = \"text-align: right;\">2</td></tr><tr><td class = \"rowNumber\" style = \"font-weight: bold; text-align: right;\">1052</td><td style = \"text-align: right;\">1052</td><td style = \"text-align: right;\">106</td><td style = \"text-align: right;\">2</td><td style = \"text-align: right;\">0</td><td style = \"text-align: right;\">1</td><td style = \"text-align: right;\">27</td><td style = \"text-align: right;\">5</td><td style = \"text-align: right;\">35</td><td style = \"text-align: right;\">4</td><td style = \"text-align: right;\">23</td><td style = \"text-align: right;\">6</td><td style = \"text-align: right;\">1</td><td style = \"text-align: right;\">2</td><td style = \"text-align: right;\">36</td><td style = \"text-align: right;\">6</td><td style = \"text-align: right;\">19</td><td style = \"text-align: right;\">2</td><td style = \"text-align: right;\">2</td></tr><tr><td class = \"rowNumber\" style = \"font-weight: bold; text-align: right;\">1053</td><td style = \"text-align: right;\">1053</td><td style = \"text-align: right;\">106</td><td style = \"text-align: right;\">3</td><td style = \"text-align: right;\">1</td><td style = \"text-align: right;\">0</td><td style = \"text-align: right;\">35</td><td style = \"text-align: right;\">3</td><td style = \"text-align: right;\">23</td><td style = \"text-align: right;\">5</td><td style = \"text-align: right;\">31</td><td style = \"text-align: right;\">4</td><td style = \"text-align: right;\">2</td><td style = \"text-align: right;\">2</td><td style = \"text-align: right;\">36</td><td style = \"text-align: right;\">6</td><td style = \"text-align: right;\">19</td><td style = \"text-align: right;\">2</td><td style = \"text-align: right;\">2</td></tr><tr><td class = \"rowNumber\" style = \"font-weight: bold; text-align: right;\">1054</td><td style = \"text-align: right;\">1054</td><td style = \"text-align: right;\">106</td><td style = \"text-align: right;\">4</td><td style = \"text-align: right;\">0</td><td style = \"text-align: right;\">1</td><td style = \"text-align: right;\">27</td><td style = \"text-align: right;\">4</td><td style = \"text-align: right;\">23</td><td style = \"text-align: right;\">5</td><td style = \"text-align: right;\">35</td><td style = \"text-align: right;\">3</td><td style = \"text-align: right;\">1</td><td style = \"text-align: right;\">2</td><td style = \"text-align: right;\">36</td><td style = \"text-align: right;\">6</td><td style = \"text-align: right;\">19</td><td style = \"text-align: right;\">2</td><td style = \"text-align: right;\">2</td></tr><tr><td class = \"rowNumber\" style = \"font-weight: bold; text-align: right;\">1055</td><td style = \"text-align: right;\">1055</td><td style = \"text-align: right;\">106</td><td style = \"text-align: right;\">5</td><td style = \"text-align: right;\">1</td><td style = \"text-align: right;\">0</td><td style = \"text-align: right;\">35</td><td style = \"text-align: right;\">3</td><td style = \"text-align: right;\">27</td><td style = \"text-align: right;\">6</td><td style = \"text-align: right;\">31</td><td style = \"text-align: right;\">5</td><td style = \"text-align: right;\">2</td><td style = \"text-align: right;\">2</td><td style = \"text-align: right;\">36</td><td style = \"text-align: right;\">6</td><td style = \"text-align: right;\">19</td><td style = \"text-align: right;\">2</td><td style = \"text-align: right;\">2</td></tr><tr><td class = \"rowNumber\" style = \"font-weight: bold; text-align: right;\">1056</td><td style = \"text-align: right;\">1056</td><td style = \"text-align: right;\">106</td><td style = \"text-align: right;\">6</td><td style = \"text-align: right;\">0</td><td style = \"text-align: right;\">1</td><td style = \"text-align: right;\">23</td><td style = \"text-align: right;\">6</td><td style = \"text-align: right;\">27</td><td style = \"text-align: right;\">5</td><td style = \"text-align: right;\">35</td><td style = \"text-align: right;\">3</td><td style = \"text-align: right;\">1</td><td style = \"text-align: right;\">2</td><td style = \"text-align: right;\">36</td><td style = \"text-align: right;\">6</td><td style = \"text-align: right;\">19</td><td style = \"text-align: right;\">2</td><td style = \"text-align: right;\">2</td></tr><tr><td class = \"rowNumber\" style = \"font-weight: bold; text-align: right;\">1057</td><td style = \"text-align: right;\">1057</td><td style = \"text-align: right;\">106</td><td style = \"text-align: right;\">7</td><td style = \"text-align: right;\">1</td><td style = \"text-align: right;\">0</td><td style = \"text-align: right;\">35</td><td style = \"text-align: right;\">3</td><td style = \"text-align: right;\">31</td><td style = \"text-align: right;\">5</td><td style = \"text-align: right;\">23</td><td style = \"text-align: right;\">6</td><td style = \"text-align: right;\">3</td><td style = \"text-align: right;\">2</td><td style = \"text-align: right;\">36</td><td style = \"text-align: right;\">6</td><td style = \"text-align: right;\">19</td><td style = \"text-align: right;\">2</td><td style = \"text-align: right;\">2</td></tr><tr><td class = \"rowNumber\" style = \"font-weight: bold; text-align: right;\">1058</td><td style = \"text-align: right;\">1058</td><td style = \"text-align: right;\">106</td><td style = \"text-align: right;\">8</td><td style = \"text-align: right;\">0</td><td style = \"text-align: right;\">0</td><td style = \"text-align: right;\">27</td><td style = \"text-align: right;\">5</td><td style = \"text-align: right;\">23</td><td style = \"text-align: right;\">6</td><td style = \"text-align: right;\">31</td><td style = \"text-align: right;\">3</td><td style = \"text-align: right;\">1</td><td style = \"text-align: right;\">2</td><td style = \"text-align: right;\">36</td><td style = \"text-align: right;\">6</td><td style = \"text-align: right;\">19</td><td style = \"text-align: right;\">2</td><td style = \"text-align: right;\">2</td></tr><tr><td class = \"rowNumber\" style = \"font-weight: bold; text-align: right;\">1059</td><td style = \"text-align: right;\">1059</td><td style = \"text-align: right;\">106</td><td style = \"text-align: right;\">9</td><td style = \"text-align: right;\">0</td><td style = \"text-align: right;\">0</td><td style = \"text-align: right;\">35</td><td style = \"text-align: right;\">3</td><td style = \"text-align: right;\">31</td><td style = \"text-align: right;\">4</td><td style = \"text-align: right;\">27</td><td style = \"text-align: right;\">6</td><td style = \"text-align: right;\">2</td><td style = \"text-align: right;\">2</td><td style = \"text-align: right;\">36</td><td style = \"text-align: right;\">6</td><td style = \"text-align: right;\">19</td><td style = \"text-align: right;\">2</td><td style = \"text-align: right;\">2</td></tr><tr><td class = \"rowNumber\" style = \"font-weight: bold; text-align: right;\">1060</td><td style = \"text-align: right;\">1060</td><td style = \"text-align: right;\">106</td><td style = \"text-align: right;\">10</td><td style = \"text-align: right;\">0</td><td style = \"text-align: right;\">0</td><td style = \"text-align: right;\">23</td><td style = \"text-align: right;\">6</td><td style = \"text-align: right;\">27</td><td style = \"text-align: right;\">4</td><td style = \"text-align: right;\">31</td><td style = \"text-align: right;\">3</td><td style = \"text-align: right;\">2</td><td style = \"text-align: right;\">2</td><td style = \"text-align: right;\">36</td><td style = \"text-align: right;\">6</td><td style = \"text-align: right;\">19</td><td style = \"text-align: right;\">2</td><td style = \"text-align: right;\">2</td></tr></tbody></table></div>"
      ],
      "text/latex": [
       "\\begin{tabular}{r|ccccccccccccc}\n",
       "\t& OBS & ID & CS & CSRUM & CSPRRM & TT1 & TC1 & TT2 & TC2 & TT3 & TC3 & Choice & \\\\\n",
       "\t\\hline\n",
       "\t& Int64 & Int64 & Int64 & Int64 & Int64 & Int64 & Int64 & Int64 & Int64 & Int64 & Int64 & Int64 & \\\\\n",
       "\t\\hline\n",
       "\t1 & 1 & 1 & 1 & 1 & 1 & 23 & 6 & 27 & 4 & 35 & 3 & 3 & $\\dots$ \\\\\n",
       "\t2 & 2 & 1 & 2 & 0 & 1 & 27 & 5 & 35 & 4 & 23 & 6 & 2 & $\\dots$ \\\\\n",
       "\t3 & 3 & 1 & 3 & 1 & 0 & 35 & 3 & 23 & 5 & 31 & 4 & 1 & $\\dots$ \\\\\n",
       "\t4 & 4 & 1 & 4 & 0 & 1 & 27 & 4 & 23 & 5 & 35 & 3 & 3 & $\\dots$ \\\\\n",
       "\t5 & 5 & 1 & 5 & 1 & 0 & 35 & 3 & 27 & 6 & 31 & 5 & 1 & $\\dots$ \\\\\n",
       "\t6 & 6 & 1 & 6 & 0 & 1 & 23 & 6 & 27 & 5 & 35 & 3 & 3 & $\\dots$ \\\\\n",
       "\t7 & 7 & 1 & 7 & 1 & 0 & 35 & 3 & 31 & 5 & 23 & 6 & 1 & $\\dots$ \\\\\n",
       "\t8 & 8 & 1 & 8 & 0 & 0 & 27 & 5 & 23 & 6 & 31 & 3 & 3 & $\\dots$ \\\\\n",
       "\t9 & 9 & 1 & 9 & 0 & 0 & 35 & 3 & 31 & 4 & 27 & 6 & 1 & $\\dots$ \\\\\n",
       "\t10 & 10 & 1 & 10 & 0 & 0 & 23 & 6 & 27 & 4 & 31 & 3 & 3 & $\\dots$ \\\\\n",
       "\t11 & 11 & 2 & 1 & 1 & 1 & 23 & 6 & 27 & 4 & 35 & 3 & 1 & $\\dots$ \\\\\n",
       "\t12 & 12 & 2 & 2 & 0 & 1 & 27 & 5 & 35 & 4 & 23 & 6 & 1 & $\\dots$ \\\\\n",
       "\t13 & 13 & 2 & 3 & 1 & 0 & 35 & 3 & 23 & 5 & 31 & 4 & 1 & $\\dots$ \\\\\n",
       "\t14 & 14 & 2 & 4 & 0 & 1 & 27 & 4 & 23 & 5 & 35 & 3 & 3 & $\\dots$ \\\\\n",
       "\t15 & 15 & 2 & 5 & 1 & 0 & 35 & 3 & 27 & 6 & 31 & 5 & 1 & $\\dots$ \\\\\n",
       "\t16 & 16 & 2 & 6 & 0 & 1 & 23 & 6 & 27 & 5 & 35 & 3 & 3 & $\\dots$ \\\\\n",
       "\t17 & 17 & 2 & 7 & 1 & 0 & 35 & 3 & 31 & 5 & 23 & 6 & 1 & $\\dots$ \\\\\n",
       "\t18 & 18 & 2 & 8 & 0 & 0 & 27 & 5 & 23 & 6 & 31 & 3 & 3 & $\\dots$ \\\\\n",
       "\t19 & 19 & 2 & 9 & 0 & 0 & 35 & 3 & 31 & 4 & 27 & 6 & 1 & $\\dots$ \\\\\n",
       "\t20 & 20 & 2 & 10 & 0 & 0 & 23 & 6 & 27 & 4 & 31 & 3 & 3 & $\\dots$ \\\\\n",
       "\t21 & 21 & 3 & 1 & 1 & 1 & 23 & 6 & 27 & 4 & 35 & 3 & 3 & $\\dots$ \\\\\n",
       "\t22 & 22 & 3 & 2 & 0 & 1 & 27 & 5 & 35 & 4 & 23 & 6 & 2 & $\\dots$ \\\\\n",
       "\t23 & 23 & 3 & 3 & 1 & 0 & 35 & 3 & 23 & 5 & 31 & 4 & 1 & $\\dots$ \\\\\n",
       "\t24 & 24 & 3 & 4 & 0 & 1 & 27 & 4 & 23 & 5 & 35 & 3 & 3 & $\\dots$ \\\\\n",
       "\t25 & 25 & 3 & 5 & 1 & 0 & 35 & 3 & 27 & 6 & 31 & 5 & 1 & $\\dots$ \\\\\n",
       "\t26 & 26 & 3 & 6 & 0 & 1 & 23 & 6 & 27 & 5 & 35 & 3 & 3 & $\\dots$ \\\\\n",
       "\t27 & 27 & 3 & 7 & 1 & 0 & 35 & 3 & 31 & 5 & 23 & 6 & 1 & $\\dots$ \\\\\n",
       "\t28 & 28 & 3 & 8 & 0 & 0 & 27 & 5 & 23 & 6 & 31 & 3 & 3 & $\\dots$ \\\\\n",
       "\t29 & 29 & 3 & 9 & 0 & 0 & 35 & 3 & 31 & 4 & 27 & 6 & 1 & $\\dots$ \\\\\n",
       "\t30 & 30 & 3 & 10 & 0 & 0 & 23 & 6 & 27 & 4 & 31 & 3 & 3 & $\\dots$ \\\\\n",
       "\t$\\dots$ & $\\dots$ & $\\dots$ & $\\dots$ & $\\dots$ & $\\dots$ & $\\dots$ & $\\dots$ & $\\dots$ & $\\dots$ & $\\dots$ & $\\dots$ & $\\dots$ &  \\\\\n",
       "\\end{tabular}\n"
      ],
      "text/plain": [
       "\u001b[1m1060×18 DataFrame\u001b[0m\n",
       "\u001b[1m  Row \u001b[0m│\u001b[1m OBS   \u001b[0m\u001b[1m ID    \u001b[0m\u001b[1m CS    \u001b[0m\u001b[1m CSRUM \u001b[0m\u001b[1m CSPRRM \u001b[0m\u001b[1m TT1   \u001b[0m\u001b[1m TC1   \u001b[0m\u001b[1m TT2   \u001b[0m\u001b[1m TC2   \u001b[0m\u001b[1m TT3   \u001b[0m\u001b[1m\u001b[0m ⋯\n",
       "      │\u001b[90m Int64 \u001b[0m\u001b[90m Int64 \u001b[0m\u001b[90m Int64 \u001b[0m\u001b[90m Int64 \u001b[0m\u001b[90m Int64  \u001b[0m\u001b[90m Int64 \u001b[0m\u001b[90m Int64 \u001b[0m\u001b[90m Int64 \u001b[0m\u001b[90m Int64 \u001b[0m\u001b[90m Int64 \u001b[0m\u001b[90m\u001b[0m ⋯\n",
       "──────┼─────────────────────────────────────────────────────────────────────────\n",
       "    1 │     1      1      1      1       1     23      6     27      4     35  ⋯\n",
       "    2 │     2      1      2      0       1     27      5     35      4     23\n",
       "    3 │     3      1      3      1       0     35      3     23      5     31\n",
       "    4 │     4      1      4      0       1     27      4     23      5     35\n",
       "    5 │     5      1      5      1       0     35      3     27      6     31  ⋯\n",
       "    6 │     6      1      6      0       1     23      6     27      5     35\n",
       "    7 │     7      1      7      1       0     35      3     31      5     23\n",
       "    8 │     8      1      8      0       0     27      5     23      6     31\n",
       "    9 │     9      1      9      0       0     35      3     31      4     27  ⋯\n",
       "   10 │    10      1     10      0       0     23      6     27      4     31\n",
       "   11 │    11      2      1      1       1     23      6     27      4     35\n",
       "  ⋮   │   ⋮      ⋮      ⋮      ⋮      ⋮       ⋮      ⋮      ⋮      ⋮      ⋮    ⋱\n",
       " 1051 │  1051    106      1      1       1     23      6     27      4     35\n",
       " 1052 │  1052    106      2      0       1     27      5     35      4     23  ⋯\n",
       " 1053 │  1053    106      3      1       0     35      3     23      5     31\n",
       " 1054 │  1054    106      4      0       1     27      4     23      5     35\n",
       " 1055 │  1055    106      5      1       0     35      3     27      6     31\n",
       " 1056 │  1056    106      6      0       1     23      6     27      5     35  ⋯\n",
       " 1057 │  1057    106      7      1       0     35      3     31      5     23\n",
       " 1058 │  1058    106      8      0       0     27      5     23      6     31\n",
       " 1059 │  1059    106      9      0       0     35      3     31      4     27\n",
       " 1060 │  1060    106     10      0       0     23      6     27      4     31  ⋯\n",
       "\u001b[36m                                                 8 columns and 1039 rows omitted\u001b[0m"
      ]
     },
     "execution_count": 2,
     "metadata": {},
     "output_type": "execute_result"
    }
   ],
   "source": [
    "dataset = TravelChoiceSurveyDataSet()"
   ]
  },
  {
   "cell_type": "code",
   "execution_count": null,
   "id": "4ca4fd94-569e-43b8-b4ca-a5bc59d6261e",
   "metadata": {},
   "outputs": [],
   "source": []
  }
 ],
 "metadata": {
  "kernelspec": {
   "display_name": "Julia 1.9.3",
   "language": "julia",
   "name": "julia-1.9"
  },
  "language_info": {
   "file_extension": ".jl",
   "mimetype": "application/julia",
   "name": "julia",
   "version": "1.9.3"
  }
 },
 "nbformat": 4,
 "nbformat_minor": 5
}
