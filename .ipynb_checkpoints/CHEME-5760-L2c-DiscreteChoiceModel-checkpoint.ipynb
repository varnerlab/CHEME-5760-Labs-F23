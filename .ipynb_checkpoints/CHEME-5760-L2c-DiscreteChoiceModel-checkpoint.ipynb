{
 "cells": [
  {
   "cell_type": "markdown",
   "id": "a7efa0ef-9154-4e92-ade4-9246251f7b02",
   "metadata": {},
   "source": [
    "# Multicategory Discrete Choice Models\n",
    "For an individual, both observable and unobservable features can influence decisions. Utility functions for individuals which consider both observable and unobservable factors take the form:\n",
    "\n",
    "\\begin{equation}\n",
    "U_{ij} = V_{ij} + \\epsilon_{ij}\n",
    "\\end{equation}\n",
    "\n",
    "The term $U_{ij}$ is the utility of alternative $j$ for individual $i$, $V_{ij}$ is the _deterministic_ component of the utility, \n",
    "i.e., the utility associated with the observable features, and $\\epsilon_{ij}$ is the random component of the utility (error model). \n",
    "\n",
    "## Logit choice model\n",
    "One of the most common choice models is the `Logit` model. Assume the random component of the utility $U_{ij}$ is _independently and identically distributed_ (IID) across $J$ alternatives, and is [Gumbel distributed](https://en.wikipedia.org/wiki/Gumbel_distribution), \n",
    "then the probability that individual $i$ chooses alternative $j$ is given by the [logit choice model](https://en.wikipedia.org/wiki/Discrete_choice):\n",
    "\n",
    "\\begin{equation}\n",
    "P_{ij} = \\frac{e^{V_{ij}/\\mu}}{\\displaystyle \\sum_{k=1}^{J}e^{V_{ik}/\\mu}}\\qquad{j=1,\\dotsc,J}\n",
    "\\end{equation}\n",
    "\n",
    "where $P_{ij}$ is the probability that individual $i$ chooses alternative $j$, $V_{ij}$ is the deterministic component of the utility, and $\\mu$ is a scale parameter.\n",
    "\n",
    "## Learning Objectives\n",
    "In this exercise, our aim is to determine the likelihood of various transportation options for students in [Dresden, Germany](https://en.wikipedia.org/wiki/Dresdenhttps://en.wikipedia.org/wiki/Dresden). We will utilize the `Logit` choice model to accomplish this objective. Our tasks include:\n",
    "\n",
    "- __Task 1__: We will begin by loading the dataset from the publication, which is saved as a `CSV` file. We will then examine its values, structures, and other relevant details.\n",
    "- __Task 2__: Next, we will calculate the probability of selecting a specific mode of transportation at the population level and explore different options for the scale parameter μ.\n",
    "- __Task 3__: Lastly, we will brainstorm some strategies to link the values at the population level with forecasts at the individual student level."
   ]
  },
  {
   "cell_type": "markdown",
   "id": "e4e070c1-013c-4a5f-8376-96638ba5620e",
   "metadata": {
    "tags": []
   },
   "source": [
    "## Setup\n",
    "The computations in this lab (or example) are enabled by the [VLDecisionsPackage.jl](https://github.com/varnerlab/VLDecisionsPackage.jl.git) and several external `Julia` packages. To load the required packages and any custom codes the teaching team has developed to work with these packages, we [include](https://docs.julialang.org/en/v1/manual/code-loading/) the `Include.jl` file):"
   ]
  },
  {
   "cell_type": "code",
   "execution_count": 1,
   "id": "c89a020a-acd1-4e55-9257-1ce5d4860b0a",
   "metadata": {
    "tags": []
   },
   "outputs": [
    {
     "name": "stderr",
     "output_type": "stream",
     "text": [
      "\u001b[32m\u001b[1m    Updating\u001b[22m\u001b[39m git-repo `https://github.com/varnerlab/VLDecisionsPackage.jl.git`\n",
      "\u001b[32m\u001b[1m   Resolving\u001b[22m\u001b[39m package versions...\n",
      "\u001b[32m\u001b[1m  No Changes\u001b[22m\u001b[39m to `~/Desktop/julia_work/CHEME-5760-Labs-F23/Project.toml`\n",
      "\u001b[32m\u001b[1m  No Changes\u001b[22m\u001b[39m to `~/Desktop/julia_work/CHEME-5760-Labs-F23/Manifest.toml`\n"
     ]
    }
   ],
   "source": [
    "using Pkg\n",
    "Pkg.add(path=\"https://github.com/varnerlab/VLDecisionsPackage.jl.git\")"
   ]
  },
  {
   "cell_type": "code",
   "execution_count": 1,
   "id": "e0c0684d-7882-48e4-8df1-3be69c6c42f1",
   "metadata": {
    "tags": []
   },
   "outputs": [
    {
     "name": "stderr",
     "output_type": "stream",
     "text": [
      "\u001b[32m\u001b[1m  Activating\u001b[22m\u001b[39m project at `~/Desktop/julia_work/CHEME-5760-Labs-F23`\n",
      "\u001b[32m\u001b[1m    Updating\u001b[22m\u001b[39m registry at `~/.julia/registries/General.toml`\n",
      "\u001b[32m\u001b[1m    Updating\u001b[22m\u001b[39m git-repo `https://github.com/varnerlab/VLDecisionsPackage.jl.git`\n",
      "\u001b[32m\u001b[1m  No Changes\u001b[22m\u001b[39m to `~/Desktop/julia_work/CHEME-5760-Labs-F23/Project.toml`\n",
      "\u001b[32m\u001b[1m  No Changes\u001b[22m\u001b[39m to `~/Desktop/julia_work/CHEME-5760-Labs-F23/Manifest.toml`\n"
     ]
    },
    {
     "data": {
      "text/plain": [
       "DresdenDataSet (generic function with 1 method)"
      ]
     },
     "execution_count": 1,
     "metadata": {},
     "output_type": "execute_result"
    }
   ],
   "source": [
    "include(\"Include.jl\")"
   ]
  },
  {
   "cell_type": "code",
   "execution_count": 2,
   "id": "f61ae3d8-8214-4c1b-9b2e-15fb68f61d72",
   "metadata": {
    "tags": []
   },
   "outputs": [
    {
     "data": {
      "text/plain": [
       "sample (generic function with 1 method)"
      ]
     },
     "execution_count": 2,
     "metadata": {},
     "output_type": "execute_result"
    }
   ],
   "source": [
    "function sample(archive::Array{Float64,2})::Array{Float64,1}\n",
    "    \n",
    "    # initialize -\n",
    "    (number_of_parameters, number_of_values) = size(archive);\n",
    "    parameters = Array{Float64,1}()\n",
    "    \n",
    "    for i ∈ 1:number_of_parameters\n",
    "        rindex = rand(1:number_of_values);\n",
    "        pvalue = archive[i,rindex];\n",
    "        push!(parameters, pvalue);\n",
    "    end\n",
    "    \n",
    "    # return -\n",
    "    return parameters\n",
    "end"
   ]
  },
  {
   "cell_type": "code",
   "execution_count": 3,
   "id": "89fbed60-2f02-404b-8005-7454165c93fd",
   "metadata": {
    "tags": []
   },
   "outputs": [
    {
     "data": {
      "text/plain": [
       "logit (generic function with 1 method)"
      ]
     },
     "execution_count": 3,
     "metadata": {},
     "output_type": "execute_result"
    }
   ],
   "source": [
    "function logit(terms::Array{Float64,1})::Array{Float64,1}\n",
    "    \n",
    "    # initialize -\n",
    "    number_of_choices = length(terms);\n",
    "    probability = Array{Float64,1}(undef, number_of_choices)\n",
    "    \n",
    "    for i ∈ eachindex(terms)\n",
    "        \n",
    "        numerator = terms[i];\n",
    "        denominator = 0;\n",
    "        for j ∈ eachindex(terms)\n",
    "            denominator += terms[j]\n",
    "        end\n",
    "        \n",
    "        probability[i] = numerator/denominator;\n",
    "    end\n",
    "    \n",
    "    return probability;\n",
    "end"
   ]
  },
  {
   "cell_type": "code",
   "execution_count": 4,
   "id": "479962e7-f26e-4a45-98b2-8ec4faf74183",
   "metadata": {
    "tags": []
   },
   "outputs": [],
   "source": [
    "function (model::VLLinearUtilityFunction)(features::DataFrame, labels::Vector{Int64}; μ::Float64 = 1000.0)\n",
    "    \n",
    "    # sizes -\n",
    "    number_of_features = 9;\n",
    "    number_of_students = nrow(features);\n",
    "    \n",
    "    # initialize with empty values -\n",
    "    choice_dict = Dict{Int64,Array{Float64,1}}();\n",
    "    choice_dict[1] = Array{Float64,1}()\n",
    "    choice_dict[2] = Array{Float64,1}()\n",
    "    choice_dict[3] = Array{Float64,1}()\n",
    "    choice_dict[4] = Array{Float64,1}()\n",
    "\n",
    "    for i ∈ 1:number_of_students\n",
    "    \n",
    "        x = Array{Float64,1}();\n",
    "        for j ∈ 1:number_of_features\n",
    "            push!(x, features[i,j] |> Float64);\n",
    "        end\n",
    "        push!(x,1.0);\n",
    "    \n",
    "        V = model(x)    \n",
    "        label = labels[i];\n",
    "\n",
    "        # get previous storage for this label -\n",
    "        tmp = choice_dict[label];\n",
    "        push!(tmp,V);\n",
    "    end\n",
    "    \n",
    "    terms = Array{Float64,1}(undef, number_of_choices)\n",
    "    for i ∈ 1:number_of_choices\n",
    "        terms[i] = choice_dict[i] |> x-> (1/μ)*mean(x) |> x->exp(x)\n",
    "    end    \n",
    "    p = logit(terms)\n",
    "\n",
    "    # return -\n",
    "    return (p, terms)\n",
    "end"
   ]
  },
  {
   "cell_type": "markdown",
   "id": "4601aad6-a2cb-4d57-a2d5-58983d7ace15",
   "metadata": {},
   "source": [
    "## Dataset\n",
    "The dataset explored here was collected as part of the publication:\n",
    "\n",
    "* [Sven Müller, Stefan Tscharaktschiew, Knut Haase (2008) Travel-to-school mode choice modeling and patterns of school choice in urban areas. Journal of Transport Geography, 16: 342-357, https://doi.org/10.1016/j.jtrangeo.2007.12.004](https://www.sciencedirect.com/science/article/pii/S0966692307001305)"
   ]
  },
  {
   "cell_type": "code",
   "execution_count": 5,
   "id": "f92cc61a-69d3-46fd-8369-3653380825a2",
   "metadata": {
    "tags": []
   },
   "outputs": [
    {
     "data": {
      "text/html": [
       "<div><div style = \"float: left;\"><span>8556×11 DataFrame</span></div><div style = \"float: right;\"><span style = \"font-style: italic;\">8531 rows omitted</span></div><div style = \"clear: both;\"></div></div><div class = \"data-frame\" style = \"overflow-x: scroll;\"><table class = \"data-frame\" style = \"margin-bottom: 6px;\"><thead><tr class = \"header\"><th class = \"rowNumber\" style = \"font-weight: bold; text-align: right;\">Row</th><th style = \"text-align: left;\">ID</th><th style = \"text-align: left;\">Choice</th><th style = \"text-align: left;\">Distance</th><th style = \"text-align: left;\">School_location</th><th style = \"text-align: left;\">Grade</th><th style = \"text-align: left;\">Age</th><th style = \"text-align: left;\">Gender</th><th style = \"text-align: left;\">CarAvail</th><th style = \"text-align: left;\">Season</th><th style = \"text-align: left;\">CB_location</th><th style = \"text-align: left;\">Leistung</th></tr><tr class = \"subheader headerLastRow\"><th class = \"rowNumber\" style = \"font-weight: bold; text-align: right;\"></th><th title = \"Int64\" style = \"text-align: left;\">Int64</th><th title = \"Int64\" style = \"text-align: left;\">Int64</th><th title = \"Float64\" style = \"text-align: left;\">Float64</th><th title = \"Int64\" style = \"text-align: left;\">Int64</th><th title = \"Int64\" style = \"text-align: left;\">Int64</th><th title = \"Int64\" style = \"text-align: left;\">Int64</th><th title = \"Int64\" style = \"text-align: left;\">Int64</th><th title = \"Int64\" style = \"text-align: left;\">Int64</th><th title = \"Int64\" style = \"text-align: left;\">Int64</th><th title = \"Int64\" style = \"text-align: left;\">Int64</th><th title = \"Float64\" style = \"text-align: left;\">Float64</th></tr></thead><tbody><tr><td class = \"rowNumber\" style = \"font-weight: bold; text-align: right;\">1</td><td style = \"text-align: right;\">1</td><td style = \"text-align: right;\">2</td><td style = \"text-align: right;\">6.03139</td><td style = \"text-align: right;\">0</td><td style = \"text-align: right;\">9</td><td style = \"text-align: right;\">15</td><td style = \"text-align: right;\">0</td><td style = \"text-align: right;\">0</td><td style = \"text-align: right;\">0</td><td style = \"text-align: right;\">0</td><td style = \"text-align: right;\">152.98</td></tr><tr><td class = \"rowNumber\" style = \"font-weight: bold; text-align: right;\">2</td><td style = \"text-align: right;\">2</td><td style = \"text-align: right;\">2</td><td style = \"text-align: right;\">3.48652</td><td style = \"text-align: right;\">0</td><td style = \"text-align: right;\">9</td><td style = \"text-align: right;\">15</td><td style = \"text-align: right;\">1</td><td style = \"text-align: right;\">0</td><td style = \"text-align: right;\">0</td><td style = \"text-align: right;\">1</td><td style = \"text-align: right;\">64.67</td></tr><tr><td class = \"rowNumber\" style = \"font-weight: bold; text-align: right;\">3</td><td style = \"text-align: right;\">3</td><td style = \"text-align: right;\">4</td><td style = \"text-align: right;\">5.331</td><td style = \"text-align: right;\">0</td><td style = \"text-align: right;\">9</td><td style = \"text-align: right;\">14</td><td style = \"text-align: right;\">1</td><td style = \"text-align: right;\">1</td><td style = \"text-align: right;\">0</td><td style = \"text-align: right;\">0</td><td style = \"text-align: right;\">147.19</td></tr><tr><td class = \"rowNumber\" style = \"font-weight: bold; text-align: right;\">4</td><td style = \"text-align: right;\">4</td><td style = \"text-align: right;\">3</td><td style = \"text-align: right;\">3.75005</td><td style = \"text-align: right;\">0</td><td style = \"text-align: right;\">9</td><td style = \"text-align: right;\">15</td><td style = \"text-align: right;\">0</td><td style = \"text-align: right;\">0</td><td style = \"text-align: right;\">0</td><td style = \"text-align: right;\">0</td><td style = \"text-align: right;\">1287.9</td></tr><tr><td class = \"rowNumber\" style = \"font-weight: bold; text-align: right;\">5</td><td style = \"text-align: right;\">5</td><td style = \"text-align: right;\">2</td><td style = \"text-align: right;\">2.041</td><td style = \"text-align: right;\">0</td><td style = \"text-align: right;\">9</td><td style = \"text-align: right;\">15</td><td style = \"text-align: right;\">1</td><td style = \"text-align: right;\">0</td><td style = \"text-align: right;\">0</td><td style = \"text-align: right;\">1</td><td style = \"text-align: right;\">35.36</td></tr><tr><td class = \"rowNumber\" style = \"font-weight: bold; text-align: right;\">6</td><td style = \"text-align: right;\">6</td><td style = \"text-align: right;\">3</td><td style = \"text-align: right;\">4.41029</td><td style = \"text-align: right;\">0</td><td style = \"text-align: right;\">9</td><td style = \"text-align: right;\">15</td><td style = \"text-align: right;\">0</td><td style = \"text-align: right;\">0</td><td style = \"text-align: right;\">0</td><td style = \"text-align: right;\">1</td><td style = \"text-align: right;\">86.43</td></tr><tr><td class = \"rowNumber\" style = \"font-weight: bold; text-align: right;\">7</td><td style = \"text-align: right;\">7</td><td style = \"text-align: right;\">2</td><td style = \"text-align: right;\">4.36</td><td style = \"text-align: right;\">0</td><td style = \"text-align: right;\">9</td><td style = \"text-align: right;\">15</td><td style = \"text-align: right;\">0</td><td style = \"text-align: right;\">1</td><td style = \"text-align: right;\">0</td><td style = \"text-align: right;\">0</td><td style = \"text-align: right;\">140.08</td></tr><tr><td class = \"rowNumber\" style = \"font-weight: bold; text-align: right;\">8</td><td style = \"text-align: right;\">8</td><td style = \"text-align: right;\">2</td><td style = \"text-align: right;\">2.74446</td><td style = \"text-align: right;\">0</td><td style = \"text-align: right;\">9</td><td style = \"text-align: right;\">15</td><td style = \"text-align: right;\">0</td><td style = \"text-align: right;\">1</td><td style = \"text-align: right;\">0</td><td style = \"text-align: right;\">0</td><td style = \"text-align: right;\">111.61</td></tr><tr><td class = \"rowNumber\" style = \"font-weight: bold; text-align: right;\">9</td><td style = \"text-align: right;\">9</td><td style = \"text-align: right;\">2</td><td style = \"text-align: right;\">4.064</td><td style = \"text-align: right;\">0</td><td style = \"text-align: right;\">9</td><td style = \"text-align: right;\">15</td><td style = \"text-align: right;\">0</td><td style = \"text-align: right;\">0</td><td style = \"text-align: right;\">0</td><td style = \"text-align: right;\">1</td><td style = \"text-align: right;\">100.7</td></tr><tr><td class = \"rowNumber\" style = \"font-weight: bold; text-align: right;\">10</td><td style = \"text-align: right;\">10</td><td style = \"text-align: right;\">1</td><td style = \"text-align: right;\">0.406531</td><td style = \"text-align: right;\">0</td><td style = \"text-align: right;\">9</td><td style = \"text-align: right;\">15</td><td style = \"text-align: right;\">0</td><td style = \"text-align: right;\">0</td><td style = \"text-align: right;\">0</td><td style = \"text-align: right;\">0</td><td style = \"text-align: right;\">32.91</td></tr><tr><td class = \"rowNumber\" style = \"font-weight: bold; text-align: right;\">11</td><td style = \"text-align: right;\">11</td><td style = \"text-align: right;\">3</td><td style = \"text-align: right;\">3.42146</td><td style = \"text-align: right;\">0</td><td style = \"text-align: right;\">9</td><td style = \"text-align: right;\">15</td><td style = \"text-align: right;\">0</td><td style = \"text-align: right;\">0</td><td style = \"text-align: right;\">0</td><td style = \"text-align: right;\">0</td><td style = \"text-align: right;\">695.07</td></tr><tr><td class = \"rowNumber\" style = \"font-weight: bold; text-align: right;\">12</td><td style = \"text-align: right;\">12</td><td style = \"text-align: right;\">2</td><td style = \"text-align: right;\">2.12608</td><td style = \"text-align: right;\">0</td><td style = \"text-align: right;\">9</td><td style = \"text-align: right;\">14</td><td style = \"text-align: right;\">0</td><td style = \"text-align: right;\">0</td><td style = \"text-align: right;\">0</td><td style = \"text-align: right;\">0</td><td style = \"text-align: right;\">152.23</td></tr><tr><td class = \"rowNumber\" style = \"font-weight: bold; text-align: right;\">13</td><td style = \"text-align: right;\">13</td><td style = \"text-align: right;\">3</td><td style = \"text-align: right;\">2.71243</td><td style = \"text-align: right;\">0</td><td style = \"text-align: right;\">9</td><td style = \"text-align: right;\">15</td><td style = \"text-align: right;\">0</td><td style = \"text-align: right;\">0</td><td style = \"text-align: right;\">0</td><td style = \"text-align: right;\">0</td><td style = \"text-align: right;\">148.95</td></tr><tr><td style = \"text-align: right;\">&vellip;</td><td style = \"text-align: right;\">&vellip;</td><td style = \"text-align: right;\">&vellip;</td><td style = \"text-align: right;\">&vellip;</td><td style = \"text-align: right;\">&vellip;</td><td style = \"text-align: right;\">&vellip;</td><td style = \"text-align: right;\">&vellip;</td><td style = \"text-align: right;\">&vellip;</td><td style = \"text-align: right;\">&vellip;</td><td style = \"text-align: right;\">&vellip;</td><td style = \"text-align: right;\">&vellip;</td><td style = \"text-align: right;\">&vellip;</td></tr><tr><td class = \"rowNumber\" style = \"font-weight: bold; text-align: right;\">8545</td><td style = \"text-align: right;\">9289</td><td style = \"text-align: right;\">3</td><td style = \"text-align: right;\">4.59445</td><td style = \"text-align: right;\">0</td><td style = \"text-align: right;\">12</td><td style = \"text-align: right;\">18</td><td style = \"text-align: right;\">1</td><td style = \"text-align: right;\">0</td><td style = \"text-align: right;\">1</td><td style = \"text-align: right;\">0</td><td style = \"text-align: right;\">313.13</td></tr><tr><td class = \"rowNumber\" style = \"font-weight: bold; text-align: right;\">8546</td><td style = \"text-align: right;\">9290</td><td style = \"text-align: right;\">1</td><td style = \"text-align: right;\">0.379281</td><td style = \"text-align: right;\">0</td><td style = \"text-align: right;\">12</td><td style = \"text-align: right;\">17</td><td style = \"text-align: right;\">1</td><td style = \"text-align: right;\">0</td><td style = \"text-align: right;\">1</td><td style = \"text-align: right;\">0</td><td style = \"text-align: right;\">27.04</td></tr><tr><td class = \"rowNumber\" style = \"font-weight: bold; text-align: right;\">8547</td><td style = \"text-align: right;\">9291</td><td style = \"text-align: right;\">3</td><td style = \"text-align: right;\">10.1766</td><td style = \"text-align: right;\">0</td><td style = \"text-align: right;\">12</td><td style = \"text-align: right;\">17</td><td style = \"text-align: right;\">1</td><td style = \"text-align: right;\">0</td><td style = \"text-align: right;\">1</td><td style = \"text-align: right;\">0</td><td style = \"text-align: right;\">182.85</td></tr><tr><td class = \"rowNumber\" style = \"font-weight: bold; text-align: right;\">8548</td><td style = \"text-align: right;\">9292</td><td style = \"text-align: right;\">3</td><td style = \"text-align: right;\">5.39591</td><td style = \"text-align: right;\">0</td><td style = \"text-align: right;\">12</td><td style = \"text-align: right;\">19</td><td style = \"text-align: right;\">1</td><td style = \"text-align: right;\">0</td><td style = \"text-align: right;\">1</td><td style = \"text-align: right;\">0</td><td style = \"text-align: right;\">345.64</td></tr><tr><td class = \"rowNumber\" style = \"font-weight: bold; text-align: right;\">8549</td><td style = \"text-align: right;\">9293</td><td style = \"text-align: right;\">4</td><td style = \"text-align: right;\">8.53024</td><td style = \"text-align: right;\">0</td><td style = \"text-align: right;\">12</td><td style = \"text-align: right;\">18</td><td style = \"text-align: right;\">1</td><td style = \"text-align: right;\">1</td><td style = \"text-align: right;\">1</td><td style = \"text-align: right;\">1</td><td style = \"text-align: right;\">1353.13</td></tr><tr><td class = \"rowNumber\" style = \"font-weight: bold; text-align: right;\">8550</td><td style = \"text-align: right;\">9294</td><td style = \"text-align: right;\">3</td><td style = \"text-align: right;\">3.94683</td><td style = \"text-align: right;\">0</td><td style = \"text-align: right;\">12</td><td style = \"text-align: right;\">18</td><td style = \"text-align: right;\">0</td><td style = \"text-align: right;\">0</td><td style = \"text-align: right;\">1</td><td style = \"text-align: right;\">0</td><td style = \"text-align: right;\">142.13</td></tr><tr><td class = \"rowNumber\" style = \"font-weight: bold; text-align: right;\">8551</td><td style = \"text-align: right;\">9295</td><td style = \"text-align: right;\">3</td><td style = \"text-align: right;\">0.744339</td><td style = \"text-align: right;\">0</td><td style = \"text-align: right;\">12</td><td style = \"text-align: right;\">18</td><td style = \"text-align: right;\">1</td><td style = \"text-align: right;\">0</td><td style = \"text-align: right;\">1</td><td style = \"text-align: right;\">0</td><td style = \"text-align: right;\">3.47</td></tr><tr><td class = \"rowNumber\" style = \"font-weight: bold; text-align: right;\">8552</td><td style = \"text-align: right;\">9296</td><td style = \"text-align: right;\">3</td><td style = \"text-align: right;\">8.82052</td><td style = \"text-align: right;\">0</td><td style = \"text-align: right;\">12</td><td style = \"text-align: right;\">19</td><td style = \"text-align: right;\">1</td><td style = \"text-align: right;\">0</td><td style = \"text-align: right;\">1</td><td style = \"text-align: right;\">1</td><td style = \"text-align: right;\">1612.53</td></tr><tr><td class = \"rowNumber\" style = \"font-weight: bold; text-align: right;\">8553</td><td style = \"text-align: right;\">9297</td><td style = \"text-align: right;\">3</td><td style = \"text-align: right;\">3.08554</td><td style = \"text-align: right;\">0</td><td style = \"text-align: right;\">12</td><td style = \"text-align: right;\">19</td><td style = \"text-align: right;\">1</td><td style = \"text-align: right;\">0</td><td style = \"text-align: right;\">1</td><td style = \"text-align: right;\">0</td><td style = \"text-align: right;\">140.04</td></tr><tr><td class = \"rowNumber\" style = \"font-weight: bold; text-align: right;\">8554</td><td style = \"text-align: right;\">9298</td><td style = \"text-align: right;\">3</td><td style = \"text-align: right;\">6.937</td><td style = \"text-align: right;\">0</td><td style = \"text-align: right;\">12</td><td style = \"text-align: right;\">18</td><td style = \"text-align: right;\">0</td><td style = \"text-align: right;\">1</td><td style = \"text-align: right;\">1</td><td style = \"text-align: right;\">0</td><td style = \"text-align: right;\">52.42</td></tr><tr><td class = \"rowNumber\" style = \"font-weight: bold; text-align: right;\">8555</td><td style = \"text-align: right;\">9299</td><td style = \"text-align: right;\">3</td><td style = \"text-align: right;\">2.83519</td><td style = \"text-align: right;\">0</td><td style = \"text-align: right;\">6</td><td style = \"text-align: right;\">11</td><td style = \"text-align: right;\">0</td><td style = \"text-align: right;\">0</td><td style = \"text-align: right;\">1</td><td style = \"text-align: right;\">0</td><td style = \"text-align: right;\">39.67</td></tr><tr><td class = \"rowNumber\" style = \"font-weight: bold; text-align: right;\">8556</td><td style = \"text-align: right;\">9300</td><td style = \"text-align: right;\">3</td><td style = \"text-align: right;\">6.95468</td><td style = \"text-align: right;\">0</td><td style = \"text-align: right;\">6</td><td style = \"text-align: right;\">12</td><td style = \"text-align: right;\">0</td><td style = \"text-align: right;\">0</td><td style = \"text-align: right;\">1</td><td style = \"text-align: right;\">0</td><td style = \"text-align: right;\">92.33</td></tr></tbody></table></div>"
      ],
      "text/latex": [
       "\\begin{tabular}{r|cccccccccc}\n",
       "\t& ID & Choice & Distance & School\\_location & Grade & Age & Gender & CarAvail & Season & \\\\\n",
       "\t\\hline\n",
       "\t& Int64 & Int64 & Float64 & Int64 & Int64 & Int64 & Int64 & Int64 & Int64 & \\\\\n",
       "\t\\hline\n",
       "\t1 & 1 & 2 & 6.03139 & 0 & 9 & 15 & 0 & 0 & 0 & $\\dots$ \\\\\n",
       "\t2 & 2 & 2 & 3.48652 & 0 & 9 & 15 & 1 & 0 & 0 & $\\dots$ \\\\\n",
       "\t3 & 3 & 4 & 5.331 & 0 & 9 & 14 & 1 & 1 & 0 & $\\dots$ \\\\\n",
       "\t4 & 4 & 3 & 3.75005 & 0 & 9 & 15 & 0 & 0 & 0 & $\\dots$ \\\\\n",
       "\t5 & 5 & 2 & 2.041 & 0 & 9 & 15 & 1 & 0 & 0 & $\\dots$ \\\\\n",
       "\t6 & 6 & 3 & 4.41029 & 0 & 9 & 15 & 0 & 0 & 0 & $\\dots$ \\\\\n",
       "\t7 & 7 & 2 & 4.36 & 0 & 9 & 15 & 0 & 1 & 0 & $\\dots$ \\\\\n",
       "\t8 & 8 & 2 & 2.74446 & 0 & 9 & 15 & 0 & 1 & 0 & $\\dots$ \\\\\n",
       "\t9 & 9 & 2 & 4.064 & 0 & 9 & 15 & 0 & 0 & 0 & $\\dots$ \\\\\n",
       "\t10 & 10 & 1 & 0.406531 & 0 & 9 & 15 & 0 & 0 & 0 & $\\dots$ \\\\\n",
       "\t11 & 11 & 3 & 3.42146 & 0 & 9 & 15 & 0 & 0 & 0 & $\\dots$ \\\\\n",
       "\t12 & 12 & 2 & 2.12608 & 0 & 9 & 14 & 0 & 0 & 0 & $\\dots$ \\\\\n",
       "\t13 & 13 & 3 & 2.71243 & 0 & 9 & 15 & 0 & 0 & 0 & $\\dots$ \\\\\n",
       "\t14 & 14 & 2 & 1.342 & 0 & 9 & 15 & 1 & 0 & 0 & $\\dots$ \\\\\n",
       "\t15 & 15 & 1 & 0.880555 & 0 & 9 & 15 & 1 & 0 & 0 & $\\dots$ \\\\\n",
       "\t16 & 16 & 1 & 0.406531 & 0 & 9 & 15 & 1 & 0 & 0 & $\\dots$ \\\\\n",
       "\t17 & 17 & 2 & 4.9853 & 0 & 9 & 15 & 1 & 0 & 0 & $\\dots$ \\\\\n",
       "\t18 & 18 & 2 & 3.24968 & 0 & 9 & 14 & 0 & 0 & 0 & $\\dots$ \\\\\n",
       "\t19 & 19 & 2 & 2.041 & 0 & 9 & 15 & 1 & 0 & 0 & $\\dots$ \\\\\n",
       "\t20 & 20 & 2 & 2.14344 & 0 & 9 & 15 & 1 & 0 & 0 & $\\dots$ \\\\\n",
       "\t21 & 21 & 3 & 2.62991 & 0 & 9 & 15 & 1 & 0 & 0 & $\\dots$ \\\\\n",
       "\t22 & 22 & 3 & 5.25 & 0 & 9 & 14 & 1 & 0 & 0 & $\\dots$ \\\\\n",
       "\t23 & 23 & 3 & 6.937 & 0 & 9 & 15 & 1 & 0 & 0 & $\\dots$ \\\\\n",
       "\t24 & 24 & 4 & 4.089 & 0 & 9 & 15 & 0 & 1 & 0 & $\\dots$ \\\\\n",
       "\t25 & 25 & 2 & 3.08127 & 0 & 9 & 15 & 1 & 0 & 0 & $\\dots$ \\\\\n",
       "\t26 & 26 & 3 & 3.905 & 0 & 9 & 15 & 1 & 0 & 0 & $\\dots$ \\\\\n",
       "\t27 & 27 & 3 & 5.143 & 0 & 9 & 15 & 1 & 0 & 0 & $\\dots$ \\\\\n",
       "\t28 & 28 & 3 & 4.311 & 0 & 9 & 15 & 0 & 0 & 0 & $\\dots$ \\\\\n",
       "\t29 & 29 & 3 & 4.28448 & 0 & 9 & 15 & 1 & 0 & 0 & $\\dots$ \\\\\n",
       "\t30 & 30 & 3 & 3.533 & 0 & 9 & 15 & 1 & 0 & 0 & $\\dots$ \\\\\n",
       "\t$\\dots$ & $\\dots$ & $\\dots$ & $\\dots$ & $\\dots$ & $\\dots$ & $\\dots$ & $\\dots$ & $\\dots$ & $\\dots$ &  \\\\\n",
       "\\end{tabular}\n"
      ],
      "text/plain": [
       "\u001b[1m8556×11 DataFrame\u001b[0m\n",
       "\u001b[1m  Row \u001b[0m│\u001b[1m ID    \u001b[0m\u001b[1m Choice \u001b[0m\u001b[1m Distance  \u001b[0m\u001b[1m School_location \u001b[0m\u001b[1m Grade \u001b[0m\u001b[1m Age   \u001b[0m\u001b[1m Gender \u001b[0m\u001b[1m CarAv\u001b[0m ⋯\n",
       "      │\u001b[90m Int64 \u001b[0m\u001b[90m Int64  \u001b[0m\u001b[90m Float64   \u001b[0m\u001b[90m Int64           \u001b[0m\u001b[90m Int64 \u001b[0m\u001b[90m Int64 \u001b[0m\u001b[90m Int64  \u001b[0m\u001b[90m Int64\u001b[0m ⋯\n",
       "──────┼─────────────────────────────────────────────────────────────────────────\n",
       "    1 │     1       2   6.03139                 0      9     15       0        ⋯\n",
       "    2 │     2       2   3.48652                 0      9     15       1\n",
       "    3 │     3       4   5.331                   0      9     14       1\n",
       "    4 │     4       3   3.75005                 0      9     15       0\n",
       "    5 │     5       2   2.041                   0      9     15       1        ⋯\n",
       "    6 │     6       3   4.41029                 0      9     15       0\n",
       "    7 │     7       2   4.36                    0      9     15       0\n",
       "    8 │     8       2   2.74446                 0      9     15       0\n",
       "    9 │     9       2   4.064                   0      9     15       0        ⋯\n",
       "   10 │    10       1   0.406531                0      9     15       0\n",
       "   11 │    11       3   3.42146                 0      9     15       0\n",
       "  ⋮   │   ⋮      ⋮         ⋮             ⋮           ⋮      ⋮      ⋮        ⋮  ⋱\n",
       " 8547 │  9291       3  10.1766                  0     12     17       1\n",
       " 8548 │  9292       3   5.39591                 0     12     19       1        ⋯\n",
       " 8549 │  9293       4   8.53024                 0     12     18       1\n",
       " 8550 │  9294       3   3.94683                 0     12     18       0\n",
       " 8551 │  9295       3   0.744339                0     12     18       1\n",
       " 8552 │  9296       3   8.82052                 0     12     19       1        ⋯\n",
       " 8553 │  9297       3   3.08554                 0     12     19       1\n",
       " 8554 │  9298       3   6.937                   0     12     18       0\n",
       " 8555 │  9299       3   2.83519                 0      6     11       0\n",
       " 8556 │  9300       3   6.95468                 0      6     12       0        ⋯\n",
       "\u001b[36m                                                 4 columns and 8535 rows omitted\u001b[0m"
      ]
     },
     "execution_count": 5,
     "metadata": {},
     "output_type": "execute_result"
    }
   ],
   "source": [
    "dataset = DresdenDataSet()"
   ]
  },
  {
   "cell_type": "markdown",
   "id": "e8840f88-3de3-48e4-99a3-53a57467df1b",
   "metadata": {},
   "source": [
    "### Get the `labels`\n",
    "Let's select the `labels`, i.e., the choices made by the students, and store these values in the `labels` array:"
   ]
  },
  {
   "cell_type": "code",
   "execution_count": 6,
   "id": "51477401-6287-402a-8d97-03de51b9ebab",
   "metadata": {
    "tags": []
   },
   "outputs": [],
   "source": [
    "labels = dataset[:,:Choice];"
   ]
  },
  {
   "cell_type": "markdown",
   "id": "9550c70d-1d34-425e-a587-8efff5c6b901",
   "metadata": {},
   "source": [
    "### Get the `features`"
   ]
  },
  {
   "cell_type": "markdown",
   "id": "4f12e466-1ee9-4e74-be09-92b8aa19b2ea",
   "metadata": {},
   "source": [
    "Next, we can get the features we are interested in by selecting all the columns in the dataset _except_ the `ID` and `Choice` columns:"
   ]
  },
  {
   "cell_type": "code",
   "execution_count": 7,
   "id": "fb96bd07-2279-4c8e-ae49-7a7f68959904",
   "metadata": {
    "tags": []
   },
   "outputs": [
    {
     "data": {
      "text/html": [
       "<div><div style = \"float: left;\"><span>8556×9 DataFrame</span></div><div style = \"float: right;\"><span style = \"font-style: italic;\">8531 rows omitted</span></div><div style = \"clear: both;\"></div></div><div class = \"data-frame\" style = \"overflow-x: scroll;\"><table class = \"data-frame\" style = \"margin-bottom: 6px;\"><thead><tr class = \"header\"><th class = \"rowNumber\" style = \"font-weight: bold; text-align: right;\">Row</th><th style = \"text-align: left;\">Distance</th><th style = \"text-align: left;\">School_location</th><th style = \"text-align: left;\">Grade</th><th style = \"text-align: left;\">Age</th><th style = \"text-align: left;\">Gender</th><th style = \"text-align: left;\">CarAvail</th><th style = \"text-align: left;\">Season</th><th style = \"text-align: left;\">CB_location</th><th style = \"text-align: left;\">Leistung</th></tr><tr class = \"subheader headerLastRow\"><th class = \"rowNumber\" style = \"font-weight: bold; text-align: right;\"></th><th title = \"Float64\" style = \"text-align: left;\">Float64</th><th title = \"Int64\" style = \"text-align: left;\">Int64</th><th title = \"Int64\" style = \"text-align: left;\">Int64</th><th title = \"Int64\" style = \"text-align: left;\">Int64</th><th title = \"Int64\" style = \"text-align: left;\">Int64</th><th title = \"Int64\" style = \"text-align: left;\">Int64</th><th title = \"Int64\" style = \"text-align: left;\">Int64</th><th title = \"Int64\" style = \"text-align: left;\">Int64</th><th title = \"Float64\" style = \"text-align: left;\">Float64</th></tr></thead><tbody><tr><td class = \"rowNumber\" style = \"font-weight: bold; text-align: right;\">1</td><td style = \"text-align: right;\">6.03139</td><td style = \"text-align: right;\">0</td><td style = \"text-align: right;\">9</td><td style = \"text-align: right;\">15</td><td style = \"text-align: right;\">0</td><td style = \"text-align: right;\">0</td><td style = \"text-align: right;\">0</td><td style = \"text-align: right;\">0</td><td style = \"text-align: right;\">152.98</td></tr><tr><td class = \"rowNumber\" style = \"font-weight: bold; text-align: right;\">2</td><td style = \"text-align: right;\">3.48652</td><td style = \"text-align: right;\">0</td><td style = \"text-align: right;\">9</td><td style = \"text-align: right;\">15</td><td style = \"text-align: right;\">1</td><td style = \"text-align: right;\">0</td><td style = \"text-align: right;\">0</td><td style = \"text-align: right;\">1</td><td style = \"text-align: right;\">64.67</td></tr><tr><td class = \"rowNumber\" style = \"font-weight: bold; text-align: right;\">3</td><td style = \"text-align: right;\">5.331</td><td style = \"text-align: right;\">0</td><td style = \"text-align: right;\">9</td><td style = \"text-align: right;\">14</td><td style = \"text-align: right;\">1</td><td style = \"text-align: right;\">1</td><td style = \"text-align: right;\">0</td><td style = \"text-align: right;\">0</td><td style = \"text-align: right;\">147.19</td></tr><tr><td class = \"rowNumber\" style = \"font-weight: bold; text-align: right;\">4</td><td style = \"text-align: right;\">3.75005</td><td style = \"text-align: right;\">0</td><td style = \"text-align: right;\">9</td><td style = \"text-align: right;\">15</td><td style = \"text-align: right;\">0</td><td style = \"text-align: right;\">0</td><td style = \"text-align: right;\">0</td><td style = \"text-align: right;\">0</td><td style = \"text-align: right;\">1287.9</td></tr><tr><td class = \"rowNumber\" style = \"font-weight: bold; text-align: right;\">5</td><td style = \"text-align: right;\">2.041</td><td style = \"text-align: right;\">0</td><td style = \"text-align: right;\">9</td><td style = \"text-align: right;\">15</td><td style = \"text-align: right;\">1</td><td style = \"text-align: right;\">0</td><td style = \"text-align: right;\">0</td><td style = \"text-align: right;\">1</td><td style = \"text-align: right;\">35.36</td></tr><tr><td class = \"rowNumber\" style = \"font-weight: bold; text-align: right;\">6</td><td style = \"text-align: right;\">4.41029</td><td style = \"text-align: right;\">0</td><td style = \"text-align: right;\">9</td><td style = \"text-align: right;\">15</td><td style = \"text-align: right;\">0</td><td style = \"text-align: right;\">0</td><td style = \"text-align: right;\">0</td><td style = \"text-align: right;\">1</td><td style = \"text-align: right;\">86.43</td></tr><tr><td class = \"rowNumber\" style = \"font-weight: bold; text-align: right;\">7</td><td style = \"text-align: right;\">4.36</td><td style = \"text-align: right;\">0</td><td style = \"text-align: right;\">9</td><td style = \"text-align: right;\">15</td><td style = \"text-align: right;\">0</td><td style = \"text-align: right;\">1</td><td style = \"text-align: right;\">0</td><td style = \"text-align: right;\">0</td><td style = \"text-align: right;\">140.08</td></tr><tr><td class = \"rowNumber\" style = \"font-weight: bold; text-align: right;\">8</td><td style = \"text-align: right;\">2.74446</td><td style = \"text-align: right;\">0</td><td style = \"text-align: right;\">9</td><td style = \"text-align: right;\">15</td><td style = \"text-align: right;\">0</td><td style = \"text-align: right;\">1</td><td style = \"text-align: right;\">0</td><td style = \"text-align: right;\">0</td><td style = \"text-align: right;\">111.61</td></tr><tr><td class = \"rowNumber\" style = \"font-weight: bold; text-align: right;\">9</td><td style = \"text-align: right;\">4.064</td><td style = \"text-align: right;\">0</td><td style = \"text-align: right;\">9</td><td style = \"text-align: right;\">15</td><td style = \"text-align: right;\">0</td><td style = \"text-align: right;\">0</td><td style = \"text-align: right;\">0</td><td style = \"text-align: right;\">1</td><td style = \"text-align: right;\">100.7</td></tr><tr><td class = \"rowNumber\" style = \"font-weight: bold; text-align: right;\">10</td><td style = \"text-align: right;\">0.406531</td><td style = \"text-align: right;\">0</td><td style = \"text-align: right;\">9</td><td style = \"text-align: right;\">15</td><td style = \"text-align: right;\">0</td><td style = \"text-align: right;\">0</td><td style = \"text-align: right;\">0</td><td style = \"text-align: right;\">0</td><td style = \"text-align: right;\">32.91</td></tr><tr><td class = \"rowNumber\" style = \"font-weight: bold; text-align: right;\">11</td><td style = \"text-align: right;\">3.42146</td><td style = \"text-align: right;\">0</td><td style = \"text-align: right;\">9</td><td style = \"text-align: right;\">15</td><td style = \"text-align: right;\">0</td><td style = \"text-align: right;\">0</td><td style = \"text-align: right;\">0</td><td style = \"text-align: right;\">0</td><td style = \"text-align: right;\">695.07</td></tr><tr><td class = \"rowNumber\" style = \"font-weight: bold; text-align: right;\">12</td><td style = \"text-align: right;\">2.12608</td><td style = \"text-align: right;\">0</td><td style = \"text-align: right;\">9</td><td style = \"text-align: right;\">14</td><td style = \"text-align: right;\">0</td><td style = \"text-align: right;\">0</td><td style = \"text-align: right;\">0</td><td style = \"text-align: right;\">0</td><td style = \"text-align: right;\">152.23</td></tr><tr><td class = \"rowNumber\" style = \"font-weight: bold; text-align: right;\">13</td><td style = \"text-align: right;\">2.71243</td><td style = \"text-align: right;\">0</td><td style = \"text-align: right;\">9</td><td style = \"text-align: right;\">15</td><td style = \"text-align: right;\">0</td><td style = \"text-align: right;\">0</td><td style = \"text-align: right;\">0</td><td style = \"text-align: right;\">0</td><td style = \"text-align: right;\">148.95</td></tr><tr><td style = \"text-align: right;\">&vellip;</td><td style = \"text-align: right;\">&vellip;</td><td style = \"text-align: right;\">&vellip;</td><td style = \"text-align: right;\">&vellip;</td><td style = \"text-align: right;\">&vellip;</td><td style = \"text-align: right;\">&vellip;</td><td style = \"text-align: right;\">&vellip;</td><td style = \"text-align: right;\">&vellip;</td><td style = \"text-align: right;\">&vellip;</td><td style = \"text-align: right;\">&vellip;</td></tr><tr><td class = \"rowNumber\" style = \"font-weight: bold; text-align: right;\">8545</td><td style = \"text-align: right;\">4.59445</td><td style = \"text-align: right;\">0</td><td style = \"text-align: right;\">12</td><td style = \"text-align: right;\">18</td><td style = \"text-align: right;\">1</td><td style = \"text-align: right;\">0</td><td style = \"text-align: right;\">1</td><td style = \"text-align: right;\">0</td><td style = \"text-align: right;\">313.13</td></tr><tr><td class = \"rowNumber\" style = \"font-weight: bold; text-align: right;\">8546</td><td style = \"text-align: right;\">0.379281</td><td style = \"text-align: right;\">0</td><td style = \"text-align: right;\">12</td><td style = \"text-align: right;\">17</td><td style = \"text-align: right;\">1</td><td style = \"text-align: right;\">0</td><td style = \"text-align: right;\">1</td><td style = \"text-align: right;\">0</td><td style = \"text-align: right;\">27.04</td></tr><tr><td class = \"rowNumber\" style = \"font-weight: bold; text-align: right;\">8547</td><td style = \"text-align: right;\">10.1766</td><td style = \"text-align: right;\">0</td><td style = \"text-align: right;\">12</td><td style = \"text-align: right;\">17</td><td style = \"text-align: right;\">1</td><td style = \"text-align: right;\">0</td><td style = \"text-align: right;\">1</td><td style = \"text-align: right;\">0</td><td style = \"text-align: right;\">182.85</td></tr><tr><td class = \"rowNumber\" style = \"font-weight: bold; text-align: right;\">8548</td><td style = \"text-align: right;\">5.39591</td><td style = \"text-align: right;\">0</td><td style = \"text-align: right;\">12</td><td style = \"text-align: right;\">19</td><td style = \"text-align: right;\">1</td><td style = \"text-align: right;\">0</td><td style = \"text-align: right;\">1</td><td style = \"text-align: right;\">0</td><td style = \"text-align: right;\">345.64</td></tr><tr><td class = \"rowNumber\" style = \"font-weight: bold; text-align: right;\">8549</td><td style = \"text-align: right;\">8.53024</td><td style = \"text-align: right;\">0</td><td style = \"text-align: right;\">12</td><td style = \"text-align: right;\">18</td><td style = \"text-align: right;\">1</td><td style = \"text-align: right;\">1</td><td style = \"text-align: right;\">1</td><td style = \"text-align: right;\">1</td><td style = \"text-align: right;\">1353.13</td></tr><tr><td class = \"rowNumber\" style = \"font-weight: bold; text-align: right;\">8550</td><td style = \"text-align: right;\">3.94683</td><td style = \"text-align: right;\">0</td><td style = \"text-align: right;\">12</td><td style = \"text-align: right;\">18</td><td style = \"text-align: right;\">0</td><td style = \"text-align: right;\">0</td><td style = \"text-align: right;\">1</td><td style = \"text-align: right;\">0</td><td style = \"text-align: right;\">142.13</td></tr><tr><td class = \"rowNumber\" style = \"font-weight: bold; text-align: right;\">8551</td><td style = \"text-align: right;\">0.744339</td><td style = \"text-align: right;\">0</td><td style = \"text-align: right;\">12</td><td style = \"text-align: right;\">18</td><td style = \"text-align: right;\">1</td><td style = \"text-align: right;\">0</td><td style = \"text-align: right;\">1</td><td style = \"text-align: right;\">0</td><td style = \"text-align: right;\">3.47</td></tr><tr><td class = \"rowNumber\" style = \"font-weight: bold; text-align: right;\">8552</td><td style = \"text-align: right;\">8.82052</td><td style = \"text-align: right;\">0</td><td style = \"text-align: right;\">12</td><td style = \"text-align: right;\">19</td><td style = \"text-align: right;\">1</td><td style = \"text-align: right;\">0</td><td style = \"text-align: right;\">1</td><td style = \"text-align: right;\">1</td><td style = \"text-align: right;\">1612.53</td></tr><tr><td class = \"rowNumber\" style = \"font-weight: bold; text-align: right;\">8553</td><td style = \"text-align: right;\">3.08554</td><td style = \"text-align: right;\">0</td><td style = \"text-align: right;\">12</td><td style = \"text-align: right;\">19</td><td style = \"text-align: right;\">1</td><td style = \"text-align: right;\">0</td><td style = \"text-align: right;\">1</td><td style = \"text-align: right;\">0</td><td style = \"text-align: right;\">140.04</td></tr><tr><td class = \"rowNumber\" style = \"font-weight: bold; text-align: right;\">8554</td><td style = \"text-align: right;\">6.937</td><td style = \"text-align: right;\">0</td><td style = \"text-align: right;\">12</td><td style = \"text-align: right;\">18</td><td style = \"text-align: right;\">0</td><td style = \"text-align: right;\">1</td><td style = \"text-align: right;\">1</td><td style = \"text-align: right;\">0</td><td style = \"text-align: right;\">52.42</td></tr><tr><td class = \"rowNumber\" style = \"font-weight: bold; text-align: right;\">8555</td><td style = \"text-align: right;\">2.83519</td><td style = \"text-align: right;\">0</td><td style = \"text-align: right;\">6</td><td style = \"text-align: right;\">11</td><td style = \"text-align: right;\">0</td><td style = \"text-align: right;\">0</td><td style = \"text-align: right;\">1</td><td style = \"text-align: right;\">0</td><td style = \"text-align: right;\">39.67</td></tr><tr><td class = \"rowNumber\" style = \"font-weight: bold; text-align: right;\">8556</td><td style = \"text-align: right;\">6.95468</td><td style = \"text-align: right;\">0</td><td style = \"text-align: right;\">6</td><td style = \"text-align: right;\">12</td><td style = \"text-align: right;\">0</td><td style = \"text-align: right;\">0</td><td style = \"text-align: right;\">1</td><td style = \"text-align: right;\">0</td><td style = \"text-align: right;\">92.33</td></tr></tbody></table></div>"
      ],
      "text/latex": [
       "\\begin{tabular}{r|ccccccccc}\n",
       "\t& Distance & School\\_location & Grade & Age & Gender & CarAvail & Season & CB\\_location & \\\\\n",
       "\t\\hline\n",
       "\t& Float64 & Int64 & Int64 & Int64 & Int64 & Int64 & Int64 & Int64 & \\\\\n",
       "\t\\hline\n",
       "\t1 & 6.03139 & 0 & 9 & 15 & 0 & 0 & 0 & 0 & $\\dots$ \\\\\n",
       "\t2 & 3.48652 & 0 & 9 & 15 & 1 & 0 & 0 & 1 & $\\dots$ \\\\\n",
       "\t3 & 5.331 & 0 & 9 & 14 & 1 & 1 & 0 & 0 & $\\dots$ \\\\\n",
       "\t4 & 3.75005 & 0 & 9 & 15 & 0 & 0 & 0 & 0 & $\\dots$ \\\\\n",
       "\t5 & 2.041 & 0 & 9 & 15 & 1 & 0 & 0 & 1 & $\\dots$ \\\\\n",
       "\t6 & 4.41029 & 0 & 9 & 15 & 0 & 0 & 0 & 1 & $\\dots$ \\\\\n",
       "\t7 & 4.36 & 0 & 9 & 15 & 0 & 1 & 0 & 0 & $\\dots$ \\\\\n",
       "\t8 & 2.74446 & 0 & 9 & 15 & 0 & 1 & 0 & 0 & $\\dots$ \\\\\n",
       "\t9 & 4.064 & 0 & 9 & 15 & 0 & 0 & 0 & 1 & $\\dots$ \\\\\n",
       "\t10 & 0.406531 & 0 & 9 & 15 & 0 & 0 & 0 & 0 & $\\dots$ \\\\\n",
       "\t11 & 3.42146 & 0 & 9 & 15 & 0 & 0 & 0 & 0 & $\\dots$ \\\\\n",
       "\t12 & 2.12608 & 0 & 9 & 14 & 0 & 0 & 0 & 0 & $\\dots$ \\\\\n",
       "\t13 & 2.71243 & 0 & 9 & 15 & 0 & 0 & 0 & 0 & $\\dots$ \\\\\n",
       "\t14 & 1.342 & 0 & 9 & 15 & 1 & 0 & 0 & 0 & $\\dots$ \\\\\n",
       "\t15 & 0.880555 & 0 & 9 & 15 & 1 & 0 & 0 & 0 & $\\dots$ \\\\\n",
       "\t16 & 0.406531 & 0 & 9 & 15 & 1 & 0 & 0 & 0 & $\\dots$ \\\\\n",
       "\t17 & 4.9853 & 0 & 9 & 15 & 1 & 0 & 0 & 0 & $\\dots$ \\\\\n",
       "\t18 & 3.24968 & 0 & 9 & 14 & 0 & 0 & 0 & 0 & $\\dots$ \\\\\n",
       "\t19 & 2.041 & 0 & 9 & 15 & 1 & 0 & 0 & 1 & $\\dots$ \\\\\n",
       "\t20 & 2.14344 & 0 & 9 & 15 & 1 & 0 & 0 & 1 & $\\dots$ \\\\\n",
       "\t21 & 2.62991 & 0 & 9 & 15 & 1 & 0 & 0 & 0 & $\\dots$ \\\\\n",
       "\t22 & 5.25 & 0 & 9 & 14 & 1 & 0 & 0 & 0 & $\\dots$ \\\\\n",
       "\t23 & 6.937 & 0 & 9 & 15 & 1 & 0 & 0 & 0 & $\\dots$ \\\\\n",
       "\t24 & 4.089 & 0 & 9 & 15 & 0 & 1 & 0 & 0 & $\\dots$ \\\\\n",
       "\t25 & 3.08127 & 0 & 9 & 15 & 1 & 0 & 0 & 0 & $\\dots$ \\\\\n",
       "\t26 & 3.905 & 0 & 9 & 15 & 1 & 0 & 0 & 0 & $\\dots$ \\\\\n",
       "\t27 & 5.143 & 0 & 9 & 15 & 1 & 0 & 0 & 0 & $\\dots$ \\\\\n",
       "\t28 & 4.311 & 0 & 9 & 15 & 0 & 0 & 0 & 0 & $\\dots$ \\\\\n",
       "\t29 & 4.28448 & 0 & 9 & 15 & 1 & 0 & 0 & 1 & $\\dots$ \\\\\n",
       "\t30 & 3.533 & 0 & 9 & 15 & 1 & 0 & 0 & 1 & $\\dots$ \\\\\n",
       "\t$\\dots$ & $\\dots$ & $\\dots$ & $\\dots$ & $\\dots$ & $\\dots$ & $\\dots$ & $\\dots$ & $\\dots$ &  \\\\\n",
       "\\end{tabular}\n"
      ],
      "text/plain": [
       "\u001b[1m8556×9 DataFrame\u001b[0m\n",
       "\u001b[1m  Row \u001b[0m│\u001b[1m Distance  \u001b[0m\u001b[1m School_location \u001b[0m\u001b[1m Grade \u001b[0m\u001b[1m Age   \u001b[0m\u001b[1m Gender \u001b[0m\u001b[1m CarAvail \u001b[0m\u001b[1m Season \u001b[0m\u001b[1m CB\u001b[0m ⋯\n",
       "      │\u001b[90m Float64   \u001b[0m\u001b[90m Int64           \u001b[0m\u001b[90m Int64 \u001b[0m\u001b[90m Int64 \u001b[0m\u001b[90m Int64  \u001b[0m\u001b[90m Int64    \u001b[0m\u001b[90m Int64  \u001b[0m\u001b[90m In\u001b[0m ⋯\n",
       "──────┼─────────────────────────────────────────────────────────────────────────\n",
       "    1 │  6.03139                 0      9     15       0         0       0     ⋯\n",
       "    2 │  3.48652                 0      9     15       1         0       0\n",
       "    3 │  5.331                   0      9     14       1         1       0\n",
       "    4 │  3.75005                 0      9     15       0         0       0\n",
       "    5 │  2.041                   0      9     15       1         0       0     ⋯\n",
       "    6 │  4.41029                 0      9     15       0         0       0\n",
       "    7 │  4.36                    0      9     15       0         1       0\n",
       "    8 │  2.74446                 0      9     15       0         1       0\n",
       "    9 │  4.064                   0      9     15       0         0       0     ⋯\n",
       "   10 │  0.406531                0      9     15       0         0       0\n",
       "   11 │  3.42146                 0      9     15       0         0       0\n",
       "  ⋮   │     ⋮             ⋮           ⋮      ⋮      ⋮        ⋮        ⋮        ⋱\n",
       " 8547 │ 10.1766                  0     12     17       1         0       1\n",
       " 8548 │  5.39591                 0     12     19       1         0       1     ⋯\n",
       " 8549 │  8.53024                 0     12     18       1         1       1\n",
       " 8550 │  3.94683                 0     12     18       0         0       1\n",
       " 8551 │  0.744339                0     12     18       1         0       1\n",
       " 8552 │  8.82052                 0     12     19       1         0       1     ⋯\n",
       " 8553 │  3.08554                 0     12     19       1         0       1\n",
       " 8554 │  6.937                   0     12     18       0         1       1\n",
       " 8555 │  2.83519                 0      6     11       0         0       1\n",
       " 8556 │  6.95468                 0      6     12       0         0       1     ⋯\n",
       "\u001b[36m                                                 2 columns and 8535 rows omitted\u001b[0m"
      ]
     },
     "execution_count": 7,
     "metadata": {},
     "output_type": "execute_result"
    }
   ],
   "source": [
    "features = dataset[:,Not([:ID,:Choice])]"
   ]
  },
  {
   "cell_type": "code",
   "execution_count": 8,
   "id": "bee556fb-5165-4ece-8731-66fe4843a2de",
   "metadata": {
    "tags": []
   },
   "outputs": [],
   "source": [
    "number_of_students = nrow(features);\n",
    "number_of_features = ncol(features);\n",
    "number_of_points = 100;"
   ]
  },
  {
   "cell_type": "code",
   "execution_count": 9,
   "id": "aeaabb89-ad17-437b-82ef-48abd5841e32",
   "metadata": {
    "tags": []
   },
   "outputs": [],
   "source": [
    "number_of_students = nrow(dataset);\n",
    "number_of_features = ncol(features);\n",
    "number_of_choices = 4;"
   ]
  },
  {
   "cell_type": "markdown",
   "id": "c3a95465-c9e4-4ad1-be96-766727166843",
   "metadata": {},
   "source": [
    "### Setup the bounds on the regression parameters that appear in the utility function\n",
    "In this exercise, we'll use a linear deterministic utility model $V(x)$ of the form:\n",
    "\n",
    "$$\n",
    "\\begin{equation}\n",
    "V(x) = \\alpha^{T}\\cdot{x} = \\sum_{i=1}^{m}\\alpha_{i}x_{i}\n",
    "\\end{equation}\n",
    "$$\n",
    "    \n",
    "The term $\\alpha^{T}\\cdot{x}$ denotes the inner (or scalar) product between the $m\\times{1}$ parameter vector $\\alpha$ and \n",
    "the $m\\times{1}$ vector of feature variables $x$, where $x_{i}\\geq{0}$ and $\\alpha_{i}$ can be positive or negative.  "
   ]
  },
  {
   "cell_type": "code",
   "execution_count": 10,
   "id": "ee83b6c6-3e84-457b-a48c-0914164ac36e",
   "metadata": {
    "tags": []
   },
   "outputs": [],
   "source": [
    "number_of_steps = 100;\n",
    "limits = [\n",
    "    \n",
    "    # features in the data\n",
    "    -1.0 10.0 ; # 1 Distance\n",
    "    -1.0 10.0 ; # 2 School_location\n",
    "    -1.0 10.0 ; # 3 Grade\n",
    "    -1.0 10.0 ; # 4 Age\n",
    "    -1.0 10.0 ; # 5 Gender\n",
    "    -1.0 10.0 ; # 6 Car?\n",
    "    -1.0 10.0 ; # 7 Season\n",
    "    -1.0 10.0 ; # 8 CB_location\n",
    "    -1.0 10.0 ; # 9 Leistung\n",
    "    \n",
    "    # add an intercept\n",
    "    -10.0 10.0 ; # 10 Intercept\n",
    "];\n",
    "\n",
    "archive = Array{Float64,2}(undef, number_of_features+1,number_of_steps);\n",
    "for i ∈ 1:(number_of_features + 1)\n",
    "    \n",
    "    tmp = range(limits[i,1],stop=limits[i,2],length=number_of_steps) |> collect;\n",
    "    for j = 1:number_of_steps\n",
    "        archive[i,j] = tmp[j]\n",
    "    end\n",
    "end"
   ]
  },
  {
   "cell_type": "markdown",
   "id": "ced0cb30-229f-4eec-a3fd-b5d9c91f0d2c",
   "metadata": {},
   "source": [
    "We can draw a sample parameter set that is within the bounds using the `sample` function defined in the `setup` section"
   ]
  },
  {
   "cell_type": "code",
   "execution_count": 11,
   "id": "03d9edba-d768-4f47-94ba-71a2d9234eca",
   "metadata": {
    "tags": []
   },
   "outputs": [
    {
     "data": {
      "text/plain": [
       "10-element Vector{Float64}:\n",
       "  1.5555555555555556\n",
       "  1.6666666666666667\n",
       "  2.111111111111111\n",
       "  9.555555555555555\n",
       "  8.88888888888889\n",
       "  6.777777777777778\n",
       "  0.5555555555555556\n",
       "  2.7777777777777777\n",
       "  3.3333333333333335\n",
       " -4.545454545454546"
      ]
     },
     "execution_count": 11,
     "metadata": {},
     "output_type": "execute_result"
    }
   ],
   "source": [
    "p = sample(archive)"
   ]
  },
  {
   "cell_type": "markdown",
   "id": "90b16f1e-fd25-43f8-b4de-c7ab87a86cac",
   "metadata": {},
   "source": [
    "Finally, let's build a model instance that we will update throughout the lab. \n",
    "We construct an instance of the `VLLinearUtilityFunction` model type (which holds the `Linear` model parameters) using the `build(...)` function, where we initially pass an empty $\\alpha$-vector `[]` to the `build(...)` function:"
   ]
  },
  {
   "cell_type": "code",
   "execution_count": 12,
   "id": "f6efa291-589c-45a6-8e82-f8b535e1e9e4",
   "metadata": {
    "tags": []
   },
   "outputs": [],
   "source": [
    "model = build(VLLinearUtilityFunction, (\n",
    "    α = [],\n",
    "));"
   ]
  },
  {
   "cell_type": "markdown",
   "id": "64a6221c-0052-4ccd-9049-6c5d659f7e1c",
   "metadata": {},
   "source": [
    "### Compute the utility for each choice given random parameters"
   ]
  },
  {
   "cell_type": "markdown",
   "id": "6cd0da0d-01f3-4858-b060-684537bf7176",
   "metadata": {},
   "source": [
    "#### Explore utility at the population level"
   ]
  },
  {
   "cell_type": "code",
   "execution_count": 17,
   "id": "4c4fe2ce-dde5-4b8e-acfe-777fb1016026",
   "metadata": {
    "tags": []
   },
   "outputs": [],
   "source": [
    "β = sample(archive);\n",
    "model.α = β\n",
    "(probability, terms) = model(features, labels);"
   ]
  },
  {
   "cell_type": "code",
   "execution_count": 18,
   "id": "cd087639-0fd9-4799-8d79-e439959db9fe",
   "metadata": {
    "tags": []
   },
   "outputs": [
    {
     "data": {
      "text/plain": [
       "4-element Vector{Float64}:\n",
       " 0.17090451983516544\n",
       " 0.21087140662995174\n",
       " 0.36765004021224007\n",
       " 0.40097606655040197"
      ]
     },
     "execution_count": 18,
     "metadata": {},
     "output_type": "execute_result"
    }
   ],
   "source": [
    "log.(terms) # these are the raw population utility values for choices 1, 2, 3 and 4"
   ]
  },
  {
   "cell_type": "code",
   "execution_count": 19,
   "id": "b6ee292a-ee11-40d1-8e5c-33913c5c2351",
   "metadata": {
    "tags": []
   },
   "outputs": [
    {
     "data": {
      "text/plain": [
       "4-element Vector{Float64}:\n",
       " 0.22139074935765204\n",
       " 0.23041824722493906\n",
       " 0.26952866741598236\n",
       " 0.2786623360014266"
      ]
     },
     "execution_count": 19,
     "metadata": {},
     "output_type": "execute_result"
    }
   ],
   "source": [
    "probability"
   ]
  },
  {
   "cell_type": "markdown",
   "id": "1897c1b3-7d97-4d2b-9046-052df674664b",
   "metadata": {},
   "source": [
    "#### Explore the utility prediction at the individual level\n",
    "* `student = 10` has choice `1`\n",
    "* `student = 1` has choice `2`\n",
    "* `student = 6` has choice `3`\n",
    "* `student = 3` has choice `4`"
   ]
  },
  {
   "cell_type": "code",
   "execution_count": 16,
   "id": "2cfb8db3-9220-46ca-92c3-ef79d4072ec5",
   "metadata": {
    "tags": []
   },
   "outputs": [
    {
     "data": {
      "text/plain": [
       "1.5871497541414141"
      ]
     },
     "execution_count": 16,
     "metadata": {},
     "output_type": "execute_result"
    }
   ],
   "source": [
    "observation_index = 1\n",
    "x = Array{Float64,1}();\n",
    "for j ∈ 1:number_of_features\n",
    "    push!(x, features[observation_index,j] |> Float64);\n",
    "end\n",
    "push!(x,1.0);\n",
    "V = model(x) |> x-> (1/1000)*x"
   ]
  }
 ],
 "metadata": {
  "kernelspec": {
   "display_name": "Julia 1.9.3",
   "language": "julia",
   "name": "julia-1.9"
  },
  "language_info": {
   "file_extension": ".jl",
   "mimetype": "application/julia",
   "name": "julia",
   "version": "1.9.3"
  }
 },
 "nbformat": 4,
 "nbformat_minor": 5
}
