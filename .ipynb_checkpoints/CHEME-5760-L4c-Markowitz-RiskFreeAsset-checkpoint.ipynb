{
 "cells": [
  {
   "cell_type": "markdown",
   "id": "8ee9342f-3c74-442a-9b88-c608ae35744d",
   "metadata": {},
   "source": [
    "## The Markowitz Portfolio Allocation Problem: Risky and Risk Free Assets\n",
    "[Markowitz portfolio allocation](https://en.wikipedia.org/wiki/Markowitz_model) identifies the weights $w$'s for assets in a portfolio such that the portfolio variance (risk) is minimized for a specified rate of portfolio return (reward). The Markowitz allocation problem for a portfolio $\\mathcal{P}$ composed of both risky and risk-free assets (savings accounts, certificate of deposit, bonds, etc) is given by:\n",
    "\n",
    "\\begin{eqnarray*}\n",
    "\\text{minimize}~\\sigma_{\\mathcal{P}}^2 &=& \\sum_{i\\in\\mathcal{P}}\\sum_{j\\in\\mathcal{P}}w_{i}w_{j}\n",
    "\\text{cov}\\left(r_{i},r_{j}\\right) \\\\\n",
    "\\text{subject to}~\\mathbb{E}(r_{\\mathcal{P}})& = & \\sum_{i\\in\\mathcal{P}}w_{i}\\cdot\\mathbb{E}(r_{i})\\geq{R^{*}}\\\\\n",
    "w_{f}+\\sum_{i\\in\\mathcal{P}}w_{i} & = & 1\\\\\n",
    "\\text{and}~w_{i}&\\geq&{0}\\qquad{\\forall{i}\\in\\mathcal{P}}\n",
    "\\end{eqnarray*}\n",
    "\n",
    "The term $w_{i}\\geq{0}$ denotes the fraction of risky asset $i$ in the portfolio $\\mathcal{P}$, the quantity $w_{f}$ denotes the weight of risk-free assets in the portfolio $\\mathcal{P}$, while $R^{*}$ is the minimal required return for $\\mathcal{P}$. The term $\\sigma_{\\mathcal{P}}$ denotes the portfolio variance, $r_{i}$ denotes the return for asset $i$ and $\\text{cov}\\left(r_{i},r_{j}\\right)$ denotes [covariance](https://en.wikipedia.org/wiki/Covariance) between the return of asset $i$ and $j$ in the portfolio. The non-negativity of the fractions $w_{i}$ forbids short selling. This constraint can be relaxed if borrowing is allowed. \n",
    "\n",
    "### Learning objectives\n",
    "In this example, we'll compute the [Efficient Frontier](https://en.wikipedia.org/wiki/Efficient_frontier) for a portfolio of risky assets, where the expected return and the covariance of the returns are calculated from a historical dataset. \n",
    "\n",
    "* First, we'll load the historical dataset. The data we'll explore is daily open-high-low-close values for firms in the [S&P500 index](https://en.wikipedia.org/wiki/S%26P_500) over the last five years.\n",
    "* Next, we'll compute the expected returns and the covariance arrays from the historical dataset\n",
    "* Finally, we'll compute the efficient frontier by solving the optimization problem described above: minimize the risk for a specified minimum reward value."
   ]
  },
  {
   "cell_type": "markdown",
   "id": "010377ad-d08f-4fde-bc46-7bd0a50c2da0",
   "metadata": {
    "tags": []
   },
   "source": [
    "## Setup"
   ]
  },
  {
   "cell_type": "code",
   "execution_count": 2,
   "id": "7c155f80-4bcc-4ba7-9eb9-64dcb8e74211",
   "metadata": {
    "tags": []
   },
   "outputs": [
    {
     "name": "stderr",
     "output_type": "stream",
     "text": [
      "\u001b[32m\u001b[1m  Activating\u001b[22m\u001b[39m project at `~/Desktop/julia_work/CHEME-5760-Labs-F23`\n",
      "\u001b[32m\u001b[1mPrecompiling\u001b[22m\u001b[39m project...\n",
      "\u001b[32m  ✓ \u001b[39m\u001b[90mHTTP\u001b[39m\n",
      "\u001b[32m  ✓ \u001b[39m\u001b[90mGR\u001b[39m\n",
      "\u001b[32m  ✓ \u001b[39mPlots\n",
      "\u001b[32m  ✓ \u001b[39m\u001b[90mPlots → UnitfulExt\u001b[39m\n",
      "\u001b[32m  ✓ \u001b[39mStatsPlots\n",
      "\u001b[32m  ✓ \u001b[39mVLDecisionsPackage\n",
      "  6 dependencies successfully precompiled in 46 seconds. 237 already precompiled.\n",
      "\u001b[32m\u001b[1m    Updating\u001b[22m\u001b[39m registry at `~/.julia/registries/General.toml`\n",
      "\u001b[32m\u001b[1m    Updating\u001b[22m\u001b[39m git-repo `https://github.com/varnerlab/VLDecisionsPackage.jl.git`\n",
      "\u001b[32m\u001b[1m    Updating\u001b[22m\u001b[39m `~/Desktop/julia_work/CHEME-5760-Labs-F23/Project.toml`\n",
      "  \u001b[90m[10f378ab] \u001b[39m\u001b[93m~ VLDecisionsPackage v0.1.0 `https://github.com/varnerlab/VLDecisionsPackage.jl.git#main` ⇒ v0.1.0 `https://github.com/varnerlab/VLDecisionsPackage.jl.git#main`\u001b[39m\n",
      "\u001b[32m\u001b[1m    Updating\u001b[22m\u001b[39m `~/Desktop/julia_work/CHEME-5760-Labs-F23/Manifest.toml`\n",
      "  \u001b[90m[523fee87] \u001b[39m\u001b[93m↑ CodecBzip2 v0.7.2 ⇒ v0.8.0\u001b[39m\n",
      "  \u001b[90m[cd3eb016] \u001b[39m\u001b[93m↑ HTTP v1.9.14 ⇒ v1.9.15\u001b[39m\n",
      "  \u001b[90m[b8f27783] \u001b[39m\u001b[93m↑ MathOptInterface v1.19.0 ⇒ v1.20.0\u001b[39m\n",
      "  \u001b[90m[892a3eda] \u001b[39m\u001b[93m↑ StringManipulation v0.3.2 ⇒ v0.3.4\u001b[39m\n",
      "  \u001b[90m[10f378ab] \u001b[39m\u001b[93m~ VLDecisionsPackage v0.1.0 `https://github.com/varnerlab/VLDecisionsPackage.jl.git#main` ⇒ v0.1.0 `https://github.com/varnerlab/VLDecisionsPackage.jl.git#main`\u001b[39m\n",
      "  \u001b[90m[7746bdde] \u001b[39m\u001b[93m↑ Glib_jll v2.74.0+2 ⇒ v2.76.5+0\u001b[39m\n",
      "\u001b[32m\u001b[1mPrecompiling\u001b[22m\u001b[39m project...\n",
      "\u001b[32m  ✓ \u001b[39mStatsPlots\n",
      "  1 dependency successfully precompiled in 4 seconds. 245 already precompiled.\n"
     ]
    },
    {
     "data": {
      "text/plain": [
       "indifference (generic function with 2 methods)"
      ]
     },
     "execution_count": 2,
     "metadata": {},
     "output_type": "execute_result"
    }
   ],
   "source": [
    "include(\"Include.jl\");"
   ]
  },
  {
   "cell_type": "code",
   "execution_count": null,
   "id": "343950bf-2855-4d0d-a2f6-d236722cc3f0",
   "metadata": {},
   "outputs": [],
   "source": []
  }
 ],
 "metadata": {
  "kernelspec": {
   "display_name": "Julia 1.9.3",
   "language": "julia",
   "name": "julia-1.9"
  },
  "language_info": {
   "file_extension": ".jl",
   "mimetype": "application/julia",
   "name": "julia",
   "version": "1.9.3"
  }
 },
 "nbformat": 4,
 "nbformat_minor": 5
}
