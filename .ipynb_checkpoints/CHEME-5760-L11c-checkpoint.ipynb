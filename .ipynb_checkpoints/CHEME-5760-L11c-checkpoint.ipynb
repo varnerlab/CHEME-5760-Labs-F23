{
 "cells": [
  {
   "cell_type": "code",
   "execution_count": null,
   "id": "5553a032-0fc6-4bfd-ac1f-34c040599732",
   "metadata": {},
   "outputs": [],
   "source": []
  }
 ],
 "metadata": {
  "kernelspec": {
   "display_name": "Julia 1.9.1",
   "language": "julia",
   "name": "julia-1.9"
  },
  "language_info": {
   "file_extension": ".jl",
   "mimetype": "application/julia",
   "name": "julia",
   "version": "1.9.2"
  }
 },
 "nbformat": 4,
 "nbformat_minor": 5
}
