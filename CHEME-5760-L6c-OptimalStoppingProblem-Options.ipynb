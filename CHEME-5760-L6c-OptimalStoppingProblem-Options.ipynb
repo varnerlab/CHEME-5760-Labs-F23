{
 "cells": [
  {
   "cell_type": "markdown",
   "id": "180fbb46-9ba5-4023-8f1a-9fd2cbb100b0",
   "metadata": {},
   "source": [
    "# Lab 6c: Optimal Stopping Problem: Computing the Price of American Options Contracts\n",
    "A binomial lattice model assumes that at each discrete time increment, the state of the system, e.g., the share price of equity, can either increase by a factor $u$ with probability $p$ or decrease by a factor $d$ with probability $(1-p)$ in the next time interval. Thus, each discrete time interval can be modeled as a [Bernoulli random variable](https://en.wikipedia.org/wiki/Bernoulli_distribution):\n",
    "\n",
    "<div>\n",
    "    <center>\n",
    "        <img src=\"figs/Fig-Binomial-Lattice-Schematic.svg\" width=\"280\"/>\n",
    "    </center>\n",
    "</div>\n",
    "\n",
    "while each level (time slice) of the tree is described by a [Binomial distribution](https://en.wikipedia.org/wiki/Binomial_distribution). Different models have been developed to compute the tuple $(u,d,p)$. However, for now, let's specify these and calculate the value of an American `put` contract written with respect to the lattice.\n",
    "\n",
    "## Contracts\n",
    "Options are contracts between two parties to buy or sell an asset, e.g., \n",
    "shares of stock at a specific price by a specific date:\n",
    "\n",
    "* A $\\textbf{call option}$ gives the owner the right, but not the obligation, to buy the underlying asset at a specific price $K$ by a particular date $T$. The payoff $V_{c}(K,S)$ to the owner (long) of a call contract is given by: $V_{c}(K,S) = \\max\\left(S-K,0\\right)$. The `call` contract seller (short) receives a premium $\\mathcal{P}_{c}$ for selling the contract.\n",
    "\n",
    "* A $\\textbf{put option}$ gives the owner the right, but not the obligation, to sell the underlying asset at a specific price $K$ by a particular date $T$. The payoff $V_{p}(K,S)$ to the owner (long) of a put contract is given by: $V_{p}(K,S) = \\max\\left(K-S,0\\right)$. The `put` contract seller (short) receives a premium $\\mathcal{P}_{p}$ for selling the contract.\n",
    "\n",
    "## Learning objectives\n",
    "The objective of `Lab 6c` is to familiarize students with computing future share price and the value of American `put` and `call` contracts using a [Binomial lattice approximation](https://en.wikipedia.org/wiki/Binomial_options_pricing_model). \n",
    "\n",
    "### Tasks\n",
    "* Prerequisite (duration 5 min): Break up into teams, familiarize yourself with the contents of the lab, and download and compile the required packages (execute the include statement). Report back to the group with any questions you or your group has about the lab. \n",
    "* __Task 1__ (duration 15 min): Setup and Populate example lattice from Chapter 13 of Hull. We'll do this together as a class.\n",
    "    * `TODO`: Inspect the populated lattice’s `connectivity`, `levels`, and `data` fields. Can you explain these data?\n",
    "* __Task 2__ (duration 5 min): Compute the premium of an American `put` contract. We'll do this together as a class.\n",
    "* __Task 3__ (duration 25 min): Recreate the calculation on the board.\n",
    "    * `TODO`: Go to the board, draw the lattice, and walk through the decision process at each node. Ensure you understand this conceptually (the implementation details can come later)."
   ]
  },
  {
   "cell_type": "markdown",
   "id": "d2e5714b-07f8-49ee-a330-77e11bcd39f3",
   "metadata": {},
   "source": [
    "## Setup\n",
    "We set up the computational environment by including the `Include.jl` file. The `Include.jl` file loads external packages, various functions that we will use in the exercise, and custom types to model the components of our example problem."
   ]
  },
  {
   "cell_type": "code",
   "execution_count": 1,
   "id": "09eb0b27-029d-41f9-9cf6-0b9fc0028ebb",
   "metadata": {
    "tags": []
   },
   "outputs": [
    {
     "name": "stderr",
     "output_type": "stream",
     "text": [
      "\u001b[32m\u001b[1m    Updating\u001b[22m\u001b[39m git-repo `https://github.com/varnerlab/VLQuantitativeFinancePackage.jl.git`\n",
      "\u001b[32m\u001b[1m   Resolving\u001b[22m\u001b[39m package versions...\n",
      "\u001b[32m\u001b[1m  No Changes\u001b[22m\u001b[39m to `~/Desktop/julia_work/CHEME-5760-Labs-F23/Project.toml`\n",
      "\u001b[32m\u001b[1m  No Changes\u001b[22m\u001b[39m to `~/Desktop/julia_work/CHEME-5760-Labs-F23/Manifest.toml`\n",
      "\u001b[32m\u001b[1m    Updating\u001b[22m\u001b[39m git-repo `https://github.com/varnerlab/VLDecisionsPackage.jl.git`\n",
      "\u001b[32m\u001b[1m   Resolving\u001b[22m\u001b[39m package versions...\n",
      "\u001b[32m\u001b[1m  No Changes\u001b[22m\u001b[39m to `~/Desktop/julia_work/CHEME-5760-Labs-F23/Project.toml`\n",
      "\u001b[32m\u001b[1m  No Changes\u001b[22m\u001b[39m to `~/Desktop/julia_work/CHEME-5760-Labs-F23/Manifest.toml`\n",
      "\u001b[32m\u001b[1m  Activating\u001b[22m\u001b[39m project at `~/Desktop/julia_work/CHEME-5760-Labs-F23`\n",
      "\u001b[32m\u001b[1m    Updating\u001b[22m\u001b[39m registry at `~/.julia/registries/General.toml`\n",
      "\u001b[32m\u001b[1m    Updating\u001b[22m\u001b[39m git-repo `https://github.com/varnerlab/VLDecisionsPackage.jl.git`\n",
      "\u001b[32m\u001b[1m    Updating\u001b[22m\u001b[39m git-repo `https://github.com/varnerlab/VLQuantitativeFinancePackage.jl.git`\n",
      "\u001b[32m\u001b[1m  No Changes\u001b[22m\u001b[39m to `~/Desktop/julia_work/CHEME-5760-Labs-F23/Project.toml`\n",
      "\u001b[32m\u001b[1m  No Changes\u001b[22m\u001b[39m to `~/Desktop/julia_work/CHEME-5760-Labs-F23/Manifest.toml`\n"
     ]
    }
   ],
   "source": [
    "include(\"Include.jl\");"
   ]
  },
  {
   "cell_type": "markdown",
   "id": "6770e6b2-1927-47e6-a1a5-21eb06000cd0",
   "metadata": {
    "tags": []
   },
   "source": [
    "### Types\n",
    "`Include.jl` loads some [problem-specific types](https://docs.julialang.org/en/v1/manual/types/#Composite-Types) that will be helpful for the lattice model simulation of equity share prices:\n",
    "\n",
    "The `MyBinomialEquityPriceTree` encodes the lattice model and has the fields:\n",
    "    \n",
    "* The `connectivity::Union{Nothing, Dict{Int64, Array{Int64,1}}}` field holds the indexes of the children for each parent node of the tree.\n",
    "* The `levels::Union{Nothing, Dict{Int64, Array{Int64,1}}}` field holds indexes of nodes that belong to each level of the tree, i.e., a trading day.\n",
    "* The `u::Float64` field holds the value of the `up` factor\n",
    "* The `d::Float64` field holds the value of the `down` factor\n",
    "* The `p::Float64` field holds the value of the probability of an `up` move.\n",
    "* The `data::Union{Nothing, Dict{Int64, MyBiomialLatticeEquityNodeModel}}` holds each node in the tree; nodes are of type `MyBiomialLatticeEquityNodeModel`\n",
    "\n",
    "Each node in the tree is a `MyBiomialLatticeEquityNodeModel` type, which has two important fields:\n",
    "* The `price::Float64` field holds the price value for a node\n",
    "* The `probability::Float64` field holds the probability value associated with this node\n",
    "\n",
    "The `MyAmericanPutContractModel` and `MyAmericanCallContractModel`types hold data associated with American `put` (or `call`) contracts. In this lab, we care about the fields:\n",
    "* The `K::Float64` field holds the strike price of the contract\n",
    "* The `DTE::Union{Nothing, Float64}` field holds the duration of the contract (units: years)\n",
    "* The `sense::Union{Nothing, Int64}` field holds the orientation of the contract (in this lab, `sense = 1`). "
   ]
  },
  {
   "cell_type": "markdown",
   "id": "e468220e-7a02-443d-a19c-589254d359bc",
   "metadata": {},
   "source": [
    "### Functions\n",
    "`Include.jl` loads the following [Julia functions](https://docs.julialang.org/en/v1/manual/functions/):\n",
    "  \n",
    "`function build(model::Type{MyBinomialEquityPriceTree}, data::NamedTuple) -> MyBinomialEquityPriceTree` \n",
    "> This function takes information in the `data` [NamedTuple](https://docs.julialang.org/en/v1/base/base/#Core.NamedTuple) argument (the $(u,d,p)$ values) and returns an instance of the `MyBinomialEquityPriceTree` [mutable type](https://docs.julialang.org/en/v1/manual/types/#Mutable-Composite-Types). Note: the `MyBinomialEquityPriceTree` returned from the `build(...)` function does not have price or probability information computed yet. Call the `populate(…)` function to populate this data.\n",
    "\n",
    "`function populate(model::MyBinomialEquityPriceTree, Sₒ::Float64, h::Int) -> MyBinomialEquityPriceTree`\n",
    "> The `populate(...)` function takes the `model::MyBinomialEquityPriceTree` instance returned from `build(...)`, a starting share price $S_{o}$ and the height of the tree, i.e., the number of time steps to simulate, and returns an updated `model::MyBinomialEquityPriceTree` instance with the price and probabilities computed for each node in the tree.\n",
    "\n",
    "`function build(model::Type{MyAmericanPutContractModel}, data::NamedTuple) -> MyAmericanPutContractModel`\n",
    "> This function takes information in the `data` [NamedTuple](https://docs.julialang.org/en/v1/base/base/#Core.NamedTuple) argument, the strike price `K`, the duration of the contract `DTE` and the `sense = 1` flag, and returns an instance of a `MyAmericanPutContractModel` model. A similar method is also provided to construct `MyAmericanCallContractModel` instances. \n",
    "\n",
    "`function premium(contract::T, model::MyBinomialEquityPriceTree; choice::Function=_rational) -> Float64 where {T<:AbstractContractModel}`\n",
    "> The `premium(...)` function takes the `contract::T` and  `model::MyBinomialEquityPriceTree` arguments and returns the `premium::Float64` (price) of the options contract, where the type `T` is any contract type `{call,put}`."
   ]
  },
  {
   "cell_type": "markdown",
   "id": "a287469e-0d82-4723-81eb-7e526ac066fd",
   "metadata": {},
   "source": [
    "## Task 1: Setup and Populate Example Lattice From Hull\n",
    "Let’s start by calculating the hypothetical share price of a stock that was reproduced from Chapter 13 of Hull. The lattice in this example has three levels (`L=0,1,2`), with an initial share price of $S_{\\circ}=50.0$ USD (at the root). An `up` move has a probability of `p = 0.6523` and a magnitude of `u = 1.1`, while a `down` move has a magnitude of  `d = 0.8`.\n",
    "\n",
    "### Implementation\n",
    "Calculating the future share price with a binomial lattice requires setting the model’s parameters, including the initial share price (as a `Float64`), the number of time steps to simulate into the future, which equals the number levels of the tree starting from zero (as an `Int64`), the up and down move magnitudes (as `Float64` values), and the probability of an up move (as a `Float64`):"
   ]
  },
  {
   "cell_type": "code",
   "execution_count": 9,
   "id": "3c018d15-c596-4bbd-bc5e-74c6301242fc",
   "metadata": {
    "tags": []
   },
   "outputs": [],
   "source": [
    "Sₒ,h,u,d,p,r̄ = 50.0,2,1.2,0.8,0.6282,0.05;"
   ]
  },
  {
   "cell_type": "markdown",
   "id": "3d2a328a-0d6b-4f79-b24a-be1132d40803",
   "metadata": {},
   "source": [
    "Once these values are set, we use the `build(…)` function to create an empty lattice model of type `MyBinomialEquityPriceTree`, which is then passed to the `populate(…)` function using the [Julia piping operator](https://docs.julialang.org/en/v1/manual/functions/#Function-composition-and-piping) `|>`. The `populate(…)` function calculates the prices and probabilities of each node (type `MyBiomialLatticeEquityNodeModel`) in the tree:"
   ]
  },
  {
   "cell_type": "code",
   "execution_count": 10,
   "id": "f1368580-c09c-46f9-9f87-d6a780cd4c36",
   "metadata": {
    "tags": []
   },
   "outputs": [],
   "source": [
    "hull_lattice_model = VLQuantitativeFinancePackage.build(MyBinomialEquityPriceTree, (\n",
    "        u = u, d = d, p = p, μ = r̄)) |> (x-> populate(x, Sₒ = Sₒ, h = h));"
   ]
  },
  {
   "cell_type": "code",
   "execution_count": 11,
   "id": "99be2bd7-f88d-4526-8276-d113fb8fdbda",
   "metadata": {
    "tags": []
   },
   "outputs": [
    {
     "data": {
      "text/plain": [
       "MyBinomialEquityPriceTree(1.2, 0.8, 0.6282, 0.05, nothing, Dict(0 => [1, 2], 2 => [4, 5], 1 => [3, 4]), Dict(0 => [0], 2 => [3, 4, 5], 1 => [1, 2]), 1.0, Dict{Int64, MyBiomialLatticeEquityNodeModel}(0 => MyBiomialLatticeEquityNodeModel(50.0, 1.0, nothing, nothing), 4 => MyBiomialLatticeEquityNodeModel(48.0, 0.46712952, nothing, nothing), 5 => MyBiomialLatticeEquityNodeModel(32.00000000000001, 0.13823524, nothing, nothing), 2 => MyBiomialLatticeEquityNodeModel(40.0, 0.3718, nothing, nothing), 3 => MyBiomialLatticeEquityNodeModel(72.0, 0.39463524, nothing, nothing), 1 => MyBiomialLatticeEquityNodeModel(60.0, 0.6282, nothing, nothing)))"
      ]
     },
     "execution_count": 11,
     "metadata": {},
     "output_type": "execute_result"
    }
   ],
   "source": [
    "hull_lattice_model"
   ]
  },
  {
   "cell_type": "code",
   "execution_count": 12,
   "id": "fe6b0694-6f68-4507-9ef6-c62b3524b879",
   "metadata": {
    "tags": []
   },
   "outputs": [
    {
     "data": {
      "text/plain": [
       "Dict{Int64, Vector{Int64}} with 3 entries:\n",
       "  0 => [1, 2]\n",
       "  2 => [4, 5]\n",
       "  1 => [3, 4]"
      ]
     },
     "execution_count": 12,
     "metadata": {},
     "output_type": "execute_result"
    }
   ],
   "source": [
    "hull_lattice_model.connectivity"
   ]
  },
  {
   "cell_type": "code",
   "execution_count": 13,
   "id": "928359ef-32fd-4c78-a0d8-689b0ba40aea",
   "metadata": {
    "tags": []
   },
   "outputs": [
    {
     "data": {
      "text/plain": [
       "Dict{Int64, MyBiomialLatticeEquityNodeModel} with 6 entries:\n",
       "  0 => MyBiomialLatticeEquityNodeModel(50.0, 1.0, nothing, nothing)\n",
       "  4 => MyBiomialLatticeEquityNodeModel(48.0, 0.46713, nothing, nothing)\n",
       "  5 => MyBiomialLatticeEquityNodeModel(32.0, 0.138235, nothing, nothing)\n",
       "  2 => MyBiomialLatticeEquityNodeModel(40.0, 0.3718, nothing, nothing)\n",
       "  3 => MyBiomialLatticeEquityNodeModel(72.0, 0.394635, nothing, nothing)\n",
       "  1 => MyBiomialLatticeEquityNodeModel(60.0, 0.6282, nothing, nothing)"
      ]
     },
     "execution_count": 13,
     "metadata": {},
     "output_type": "execute_result"
    }
   ],
   "source": [
    "hull_lattice_model.data"
   ]
  },
  {
   "cell_type": "code",
   "execution_count": 14,
   "id": "f67826fd-54e6-4b67-a80c-3caa8de929cc",
   "metadata": {
    "tags": []
   },
   "outputs": [
    {
     "data": {
      "text/plain": [
       "Dict{Int64, Vector{Int64}} with 3 entries:\n",
       "  0 => [0]\n",
       "  2 => [3, 4, 5]\n",
       "  1 => [1, 2]"
      ]
     },
     "execution_count": 14,
     "metadata": {},
     "output_type": "execute_result"
    }
   ],
   "source": [
    "hull_lattice_model.levels"
   ]
  },
  {
   "cell_type": "markdown",
   "id": "7d97a416-623a-45d4-995b-9350360aa3fd",
   "metadata": {},
   "source": [
    "## Task 2: Compute the premium of American `put` contract\n",
    "Now that we have the share price lattice, let's compute the the premium $\\mathcal{P}_{p}$ of a American `put` contract using `backward induction` on the binomial lattice. The `put` contract has a strike price `K = 52` USD/share and a Days to Expiration `DTE` of `1-year`. The value computed by Hull is $\\mathcal{P}_{p} = 5.0894$ USD/share:"
   ]
  },
  {
   "cell_type": "code",
   "execution_count": 4,
   "id": "7ce3dbf7-6136-42a5-a87d-f88dad33066d",
   "metadata": {
    "tags": []
   },
   "outputs": [],
   "source": [
    "price_computed_by_Hull = 5.0894; # units: USD/share"
   ]
  },
  {
   "cell_type": "markdown",
   "id": "d7abcd02-ad8d-4cce-b1e9-42a4b73f546d",
   "metadata": {},
   "source": [
    "Let's set values for the strike price `K`, the duration of the contract `DTE` and the `sense` parameter (sense is always equal to `1` in this application):"
   ]
  },
  {
   "cell_type": "code",
   "execution_count": 5,
   "id": "574ebbfc-4532-46b8-bac1-a5f76f815641",
   "metadata": {
    "tags": []
   },
   "outputs": [],
   "source": [
    "K,DTE,sense = 52,1,1;"
   ]
  },
  {
   "cell_type": "markdown",
   "id": "1c7b265a-5d37-4b5d-a530-4223a44100e9",
   "metadata": {},
   "source": [
    "Next, construct a `MyAmericanPutContractModel` instance, which holds the data associated with the `put` contract using the `build(...)` method, passing in the required parameters:"
   ]
  },
  {
   "cell_type": "code",
   "execution_count": 15,
   "id": "ab396374-1b44-4b71-ab8e-4ba767ab9149",
   "metadata": {
    "tags": []
   },
   "outputs": [],
   "source": [
    "american_put_contract_model = VLQuantitativeFinancePackage.build(MyAmericanPutContractModel, (\n",
    "        K = K, DTE = DTE, sense = 1));"
   ]
  },
  {
   "cell_type": "markdown",
   "id": "257eff1e-4eea-4faf-861b-7303cefd01e8",
   "metadata": {},
   "source": [
    "Now, we call the `premium(...)` method with the contract, and the lattice, as parameters. The `premium(...)` method returns the premium $\\mathcal{P}_{p}$ (price) of the contract. We store this value in the `my_put_premium` variable:"
   ]
  },
  {
   "cell_type": "code",
   "execution_count": 16,
   "id": "f835c832-f10b-4240-bbf4-af8e099a6877",
   "metadata": {
    "tags": []
   },
   "outputs": [],
   "source": [
    "my_put_premium = premium(american_put_contract_model, hull_lattice_model);"
   ]
  },
  {
   "cell_type": "code",
   "execution_count": 18,
   "id": "91692e77-32b0-461a-847c-fd2cf8c3ac6a",
   "metadata": {
    "tags": []
   },
   "outputs": [
    {
     "data": {
      "text/plain": [
       "5.08935773788274"
      ]
     },
     "execution_count": 18,
     "metadata": {},
     "output_type": "execute_result"
    }
   ],
   "source": [
    "my_put_premium"
   ]
  },
  {
   "cell_type": "markdown",
   "id": "d1f29114-3eb5-421b-bf0e-6876e3320316",
   "metadata": {},
   "source": [
    "### Check: Do we get the correct contract price?"
   ]
  },
  {
   "cell_type": "code",
   "execution_count": 17,
   "id": "a5d44cd3-79e2-4a3d-88b5-d0a049e89786",
   "metadata": {
    "tags": []
   },
   "outputs": [],
   "source": [
    "@assert isapprox(price_computed_by_Hull, my_put_premium, rtol=1e-4)"
   ]
  },
  {
   "cell_type": "markdown",
   "id": "a0293e9d-089c-433f-827a-45eb6bd63a8a",
   "metadata": {},
   "source": [
    "## Task 3: Inspect the Lattice nodes\n",
    "The nodes in the `hull_lattice_model`, which can be accessed using the `data` field, contain information about the `instrinsic` and `extrinsic` values of the `put` option contract. When dealing with American options contracts, it is important to understand these two types of values: \n",
    "\n",
    "* `Intrinsic` value is the difference between the current market price of the underlying asset and the option’s strike price, indicating the immediate value that can be obtained by exercising the option at the current moment. \n",
    "* `Extrinsic` value, on the other hand, is the portion of the option’s premium that is not related to its intrinsic value. It represents the premium paid for the potential price movement of the underlying asset over the remaining time until the option’s expiration, as well as other factors such as implied volatility."
   ]
  },
  {
   "cell_type": "code",
   "execution_count": null,
   "id": "250bba07-46ef-4d61-bbd4-72c08832fb59",
   "metadata": {},
   "outputs": [],
   "source": []
  }
 ],
 "metadata": {
  "kernelspec": {
   "display_name": "Julia 1.9.3",
   "language": "julia",
   "name": "julia-1.9"
  },
  "language_info": {
   "file_extension": ".jl",
   "mimetype": "application/julia",
   "name": "julia",
   "version": "1.9.3"
  }
 },
 "nbformat": 4,
 "nbformat_minor": 5
}
