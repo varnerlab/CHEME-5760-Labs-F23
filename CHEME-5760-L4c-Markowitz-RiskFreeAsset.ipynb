{
 "cells": [
  {
   "cell_type": "markdown",
   "id": "8ee9342f-3c74-442a-9b88-c608ae35744d",
   "metadata": {},
   "source": [
    "## The Markowitz Portfolio Allocation Problem: Risky and Risk Free Assets\n",
    "[Markowitz portfolio allocation](https://en.wikipedia.org/wiki/Markowitz_model) identifies the weights $w$'s for assets in a portfolio such that the portfolio variance (risk) is minimized for a specified rate of portfolio return (reward). The Markowitz allocation problem for a portfolio $\\mathcal{P}$ composed of both risky and risk-free assets (savings accounts, certificate of deposit, bonds, etc) is given by:\n",
    "\n",
    "\\begin{eqnarray*}\n",
    "\\text{minimize}~\\sigma_{\\mathcal{P}}^2 &=& \\sum_{i\\in\\mathcal{P}}\\sum_{j\\in\\mathcal{P}}w_{i}w_{j}\n",
    "\\text{cov}\\left(r_{i},r_{j}\\right) \\\\\n",
    "\\text{subject to}~\\mathbb{E}(r_{\\mathcal{P}})& = & \\sum_{i\\in\\mathcal{P}}w_{i}\\cdot\\mathbb{E}(r_{i})\\geq{R^{*}}\\\\\n",
    "w_{f}+\\sum_{i\\in\\mathcal{P}}w_{i} & = & 1\\\\\n",
    "\\text{and}~w_{i}&\\geq&{0}\\qquad{\\forall{i}\\in\\mathcal{P}}\n",
    "\\end{eqnarray*}\n",
    "\n",
    "The term $w_{i}\\geq{0}$ denotes the fraction of risky asset $i$ in the portfolio $\\mathcal{P}$, the quantity $w_{f}$ denotes the weight of risk-free assets in the portfolio $\\mathcal{P}$, while $R^{*}$ is the minimal required return for $\\mathcal{P}$. The term $\\sigma_{\\mathcal{P}}$ denotes the portfolio variance, $r_{i}$ denotes the return for asset $i$ and $\\text{cov}\\left(r_{i},r_{j}\\right)$ denotes [covariance](https://en.wikipedia.org/wiki/Covariance) between the return of asset $i$ and $j$ in the portfolio. The non-negativity of the fractions $w_{i}$ forbids short selling. This constraint can be relaxed if borrowing is allowed. \n",
    "\n",
    "### Learning objectives\n",
    "In this example, we'll compute the [Efficient Frontier](https://en.wikipedia.org/wiki/Efficient_frontier) for a portfolio of risky assets, where the expected return and the covariance of the returns are calculated from a historical dataset. \n",
    "\n",
    "* First, we'll load the historical dataset. The data we'll explore is daily open-high-low-close values for firms in the [S&P500 index](https://en.wikipedia.org/wiki/S%26P_500) over the last five years.\n",
    "* Next, we'll compute the expected returns and the covariance arrays from the historical dataset\n",
    "* Finally, we'll compute the efficient frontier by solving the optimization problem described above: minimize the risk for a specified minimum reward value."
   ]
  },
  {
   "cell_type": "markdown",
   "id": "010377ad-d08f-4fde-bc46-7bd0a50c2da0",
   "metadata": {
    "tags": []
   },
   "source": [
    "## Setup"
   ]
  },
  {
   "cell_type": "code",
   "execution_count": 1,
   "id": "7c155f80-4bcc-4ba7-9eb9-64dcb8e74211",
   "metadata": {
    "tags": []
   },
   "outputs": [
    {
     "name": "stderr",
     "output_type": "stream",
     "text": [
      "\u001b[32m\u001b[1m  Activating\u001b[22m\u001b[39m project at `~/Desktop/julia_work/CHEME-5760-Labs-F23`\n",
      "\u001b[32m\u001b[1m    Updating\u001b[22m\u001b[39m registry at `~/.julia/registries/General.toml`\n",
      "\u001b[32m\u001b[1m    Updating\u001b[22m\u001b[39m git-repo `https://github.com/varnerlab/VLDecisionsPackage.jl.git`\n",
      "\u001b[32m\u001b[1m  No Changes\u001b[22m\u001b[39m to `~/Desktop/julia_work/CHEME-5760-Labs-F23/Project.toml`\n",
      "\u001b[32m\u001b[1m  No Changes\u001b[22m\u001b[39m to `~/Desktop/julia_work/CHEME-5760-Labs-F23/Manifest.toml`\n"
     ]
    }
   ],
   "source": [
    "include(\"Include.jl\");"
   ]
  },
  {
   "cell_type": "markdown",
   "id": "456c811a-427b-4c1b-a79a-af800d3291c4",
   "metadata": {},
   "source": [
    "### Historical dataset\n",
    "We gathered a daily open-high-low-close `dataset` for each firm in the [S&P500](https://en.wikipedia.org/wiki/S%26P_500) for the past five-trading years (a maximum of `1256` data points per firm). However, not all the firms in the `dataset` have the maximum number of trading days, i.e., some firms are missing information for various reasons; perhaps they were acquired, merged, or delisted, etc. We will exclude these firms from the `dataset`.\n",
    "\n",
    "We load the price `dataset` by calling the `MyPortfolioDataSet()` function:"
   ]
  },
  {
   "cell_type": "code",
   "execution_count": 2,
   "id": "d35190f6-2377-40da-bf39-a491bc9caa02",
   "metadata": {
    "tags": []
   },
   "outputs": [],
   "source": [
    "dataset = MyPortfolioDataSet() |> x-> x[\"dataset\"];"
   ]
  },
  {
   "cell_type": "markdown",
   "id": "9f1ba59d-0490-4f79-a145-e87d6dabda55",
   "metadata": {},
   "source": [
    "Each firm is assigned an `index` (the `keys` of the `dataset` dictionary). Let's get these `keys`, sort them, and then store these firm indices in the `firms` array:"
   ]
  },
  {
   "cell_type": "code",
   "execution_count": 3,
   "id": "f135593a-d4f4-4d17-baa6-eecbb7c57c07",
   "metadata": {
    "tags": []
   },
   "outputs": [],
   "source": [
    "firms = keys(dataset) |> collect |> sort;"
   ]
  },
  {
   "cell_type": "code",
   "execution_count": 8,
   "id": "c4e7362f-5863-4a5e-9d84-6fadf38a6410",
   "metadata": {
    "tags": []
   },
   "outputs": [],
   "source": [
    "number_of_firms = length(firms);"
   ]
  },
  {
   "cell_type": "markdown",
   "id": "c95acf9b-3815-4ee2-b19f-a15fb9c485dd",
   "metadata": {},
   "source": [
    "### Compute the expected return and covariance matrices\n",
    "First, we compute the expected (annualized) log return by passing the `dataset` and a list of firms we are interested in (held in the $N\\times{1}$ `firms` array) to the `log_return_matrix(...)` method. The result is stored in the `return_matrix` variable, a $T-1\\times{N}$ array of log return values. \n",
    "Each row of `return_matrix` corresponds to a time-value, while each column corresponds to a firm: "
   ]
  },
  {
   "cell_type": "code",
   "execution_count": 5,
   "id": "9325a471-5d22-402b-b629-bf2e299f61cd",
   "metadata": {
    "tags": []
   },
   "outputs": [],
   "source": [
    "return_matrix = log_return_matrix(dataset,firms);"
   ]
  },
  {
   "cell_type": "markdown",
   "id": "32c0b525-cef5-404d-bb80-967226a93c4a",
   "metadata": {},
   "source": [
    "Next, we estimate the `covariance_matrix` from the `return_matrix` using the `cov(...)` function which is exported by the [Statistics.jl package](https://docs.julialang.org/en/v1/stdlib/Statistics/): "
   ]
  },
  {
   "cell_type": "code",
   "execution_count": 6,
   "id": "e8af574c-ceec-48bf-ad63-da4ff21c66f2",
   "metadata": {
    "tags": []
   },
   "outputs": [],
   "source": [
    "covariance_matrix = cov(return_matrix);"
   ]
  },
  {
   "cell_type": "markdown",
   "id": "e7aed96e-3241-4267-99b5-35c018c5c445",
   "metadata": {},
   "source": [
    "Finally, we estimate the expected return for each firm from the `return_matrix` using the `mean(...)` function which is exported by the [Statistics.jl package](https://docs.julialang.org/en/v1/stdlib/Statistics/): "
   ]
  },
  {
   "cell_type": "code",
   "execution_count": 9,
   "id": "6903f5c5-d642-4c5f-b47d-86704664b498",
   "metadata": {
    "tags": []
   },
   "outputs": [],
   "source": [
    "tmp = mean(return_matrix, dims=1);\n",
    "expected_return = Array{Float64,1}()\n",
    "for i ∈ 1:number_of_firms\n",
    "    push!(expected_return, tmp[i])\n",
    "end"
   ]
  },
  {
   "cell_type": "code",
   "execution_count": null,
   "id": "3b15f720-7f46-48ae-a8aa-b65c0e7d6218",
   "metadata": {},
   "outputs": [],
   "source": []
  }
 ],
 "metadata": {
  "kernelspec": {
   "display_name": "Julia 1.9.3",
   "language": "julia",
   "name": "julia-1.9"
  },
  "language_info": {
   "file_extension": ".jl",
   "mimetype": "application/julia",
   "name": "julia",
   "version": "1.9.3"
  }
 },
 "nbformat": 4,
 "nbformat_minor": 5
}
