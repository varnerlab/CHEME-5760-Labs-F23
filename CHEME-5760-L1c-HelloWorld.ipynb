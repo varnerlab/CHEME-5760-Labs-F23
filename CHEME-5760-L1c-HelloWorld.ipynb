{
 "cells": [
  {
   "cell_type": "markdown",
   "id": "a0dd3e9a-c44b-4867-9dbd-c574ff69c8d8",
   "metadata": {},
   "source": [
    "# Lab 1c: Hello World"
   ]
  },
  {
   "cell_type": "markdown",
   "id": "30b75b19",
   "metadata": {},
   "source": []
  }
 ],
 "metadata": {
  "kernelspec": {
   "display_name": "Julia 1.9.1",
   "language": "julia",
   "name": "julia-1.9"
  },
  "language_info": {
   "file_extension": ".jl",
   "mimetype": "application/julia",
   "name": "julia",
   "version": "1.9.2"
  }
 },
 "nbformat": 4,
 "nbformat_minor": 5
}
