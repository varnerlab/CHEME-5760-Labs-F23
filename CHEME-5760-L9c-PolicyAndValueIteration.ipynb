{
 "cells": [
  {
   "cell_type": "markdown",
   "id": "74c7da3d-5bac-4d7d-81c2-f135ae11d8cc",
   "metadata": {},
   "source": [
    "## Lab 9c: Markov Decision Processes, Value and Policy Iteration\n",
    "Fill me in"
   ]
  },
  {
   "cell_type": "markdown",
   "id": "d9b91c6d-e13e-4b8c-bf14-d4651ef03d5e",
   "metadata": {},
   "source": [
    "## Setup"
   ]
  },
  {
   "cell_type": "code",
   "execution_count": 1,
   "id": "8de6de82-32d0-4ea2-93b5-6c55c94d2e8d",
   "metadata": {
    "tags": []
   },
   "outputs": [
    {
     "name": "stderr",
     "output_type": "stream",
     "text": [
      "\u001b[32m\u001b[1m    Updating\u001b[22m\u001b[39m git-repo `https://github.com/varnerlab/VLDecisionsPackage.jl.git`\n",
      "\u001b[32m\u001b[1m   Resolving\u001b[22m\u001b[39m package versions...\n",
      "\u001b[32m\u001b[1m  No Changes\u001b[22m\u001b[39m to `~/Desktop/julia_work/CHEME-5760-Labs-F23/Project.toml`\n",
      "\u001b[32m\u001b[1m  No Changes\u001b[22m\u001b[39m to `~/Desktop/julia_work/CHEME-5760-Labs-F23/Manifest.toml`\n",
      "\u001b[32m\u001b[1m    Updating\u001b[22m\u001b[39m git-repo `https://github.com/varnerlab/VLQuantitativeFinancePackage.jl.git`\n",
      "\u001b[32m\u001b[1m   Resolving\u001b[22m\u001b[39m package versions...\n",
      "\u001b[32m\u001b[1m  No Changes\u001b[22m\u001b[39m to `~/Desktop/julia_work/CHEME-5760-Labs-F23/Project.toml`\n",
      "\u001b[32m\u001b[1m  No Changes\u001b[22m\u001b[39m to `~/Desktop/julia_work/CHEME-5760-Labs-F23/Manifest.toml`\n",
      "\u001b[32m\u001b[1m  Activating\u001b[22m\u001b[39m project at `~/Desktop/julia_work/CHEME-5760-Labs-F23`\n",
      "\u001b[32m\u001b[1m  No Changes\u001b[22m\u001b[39m to `~/Desktop/julia_work/CHEME-5760-Labs-F23/Project.toml`\n",
      "\u001b[32m\u001b[1m  No Changes\u001b[22m\u001b[39m to `~/Desktop/julia_work/CHEME-5760-Labs-F23/Manifest.toml`\n",
      "\u001b[32m\u001b[1m    Updating\u001b[22m\u001b[39m registry at `~/.julia/registries/General.toml`\n",
      "\u001b[32m\u001b[1m    Updating\u001b[22m\u001b[39m git-repo `https://github.com/varnerlab/VLDecisionsPackage.jl.git`\n",
      "\u001b[32m\u001b[1m    Updating\u001b[22m\u001b[39m git-repo `https://github.com/varnerlab/VLQuantitativeFinancePackage.jl.git`\n",
      "\u001b[32m\u001b[1m  No Changes\u001b[22m\u001b[39m to `~/Desktop/julia_work/CHEME-5760-Labs-F23/Project.toml`\n",
      "\u001b[32m\u001b[1m  No Changes\u001b[22m\u001b[39m to `~/Desktop/julia_work/CHEME-5760-Labs-F23/Manifest.toml`\n"
     ]
    }
   ],
   "source": [
    "include(\"Include.jl\");"
   ]
  },
  {
   "cell_type": "markdown",
   "id": "232d016f-ec6a-4a9d-9353-3ef84eacc4eb",
   "metadata": {},
   "source": [
    "### Types\n",
    "\n",
    "```julia\n",
    "mutable struct MyRectangularGridWorldModel <: AbstractWorldModel\n",
    "\n",
    "    # data -\n",
    "    number_of_rows::Int\n",
    "    number_of_cols::Int\n",
    "    coordinates::Dict{Int,Tuple{Int,Int}}\n",
    "    states::Dict{Tuple{Int,Int},Int}\n",
    "    moves::Dict{Int,Tuple{Int,Int}}\n",
    "    rewards::Dict{Int,Float64}\n",
    "\n",
    "    # constructor -\n",
    "    MyRectangularGridWorldModel() = new();\n",
    "end\n",
    "```"
   ]
  },
  {
   "cell_type": "code",
   "execution_count": 2,
   "id": "1f4d2229-9484-4320-ad55-3c597a8b3881",
   "metadata": {
    "tags": []
   },
   "outputs": [],
   "source": [
    "# Step 1: Build a model of the world -\n",
    "number_of_rows = 5\n",
    "number_of_cols = 5\n",
    "nactions = 4; \n",
    "nstates = (number_of_rows*number_of_cols);\n",
    "γ = 0.95;\n",
    "\n",
    "# setup rewards -\n",
    "rewards = Dict{Tuple{Int,Int}, Float64}()\n",
    "rewards[(2,2)] = -100000.0 # lava is the (2,2) square \n",
    "rewards[(3,3)] = 1000.0    # target square\n",
    "\n",
    "# setup set of absorbing states -\n",
    "absorbing_state_set = Set{Tuple{Int,Int}}()\n",
    "push!(absorbing_state_set, (2,2));\n",
    "push!(absorbing_state_set, (3,3));\n",
    "\n",
    "# call the factory -\n",
    "world = VLDecisionsPackage.build(MyRectangularGridWorldModel, \n",
    "    (nrows = number_of_rows, ncols = number_of_cols, rewards = rewards));"
   ]
  },
  {
   "cell_type": "code",
   "execution_count": 3,
   "id": "2f208605-ec66-4505-bf8b-706d74774083",
   "metadata": {
    "tags": []
   },
   "outputs": [
    {
     "data": {
      "text/plain": [
       "Dict{Int64, Tuple{Int64, Int64}} with 4 entries:\n",
       "  4 => (0, 1)\n",
       "  2 => (1, 0)\n",
       "  3 => (0, -1)\n",
       "  1 => (-1, 0)"
      ]
     },
     "execution_count": 3,
     "metadata": {},
     "output_type": "execute_result"
    }
   ],
   "source": [
    "world.moves"
   ]
  },
  {
   "cell_type": "code",
   "execution_count": 4,
   "id": "cdb82196-5fa7-4b9c-9b02-6ead5ff31fb9",
   "metadata": {
    "tags": []
   },
   "outputs": [
    {
     "data": {
      "text/plain": [
       "Dict{Tuple{Int64, Int64}, Int64} with 25 entries:\n",
       "  (4, 5) => 20\n",
       "  (1, 2) => 2\n",
       "  (3, 1) => 11\n",
       "  (2, 5) => 10\n",
       "  (1, 3) => 3\n",
       "  (1, 4) => 4\n",
       "  (5, 5) => 25\n",
       "  (3, 2) => 12\n",
       "  (3, 3) => 13\n",
       "  (4, 1) => 16\n",
       "  (2, 1) => 6\n",
       "  (3, 4) => 14\n",
       "  (1, 5) => 5\n",
       "  (4, 2) => 17\n",
       "  (5, 1) => 21\n",
       "  (2, 2) => 7\n",
       "  (4, 3) => 18\n",
       "  (2, 3) => 8\n",
       "  (3, 5) => 15\n",
       "  (4, 4) => 19\n",
       "  (2, 4) => 9\n",
       "  (1, 1) => 1\n",
       "  (5, 2) => 22\n",
       "  (5, 3) => 23\n",
       "  (5, 4) => 24"
      ]
     },
     "execution_count": 4,
     "metadata": {},
     "output_type": "execute_result"
    }
   ],
   "source": [
    "world.states"
   ]
  },
  {
   "cell_type": "code",
   "execution_count": 5,
   "id": "2b7802e7-0547-4fcb-8169-841fbd0bd29c",
   "metadata": {
    "tags": []
   },
   "outputs": [],
   "source": [
    "𝒮 = range(1,stop=nstates,step=1) |> collect;\n",
    "𝒜 = range(1,stop=nactions,step=1) |> collect;"
   ]
  },
  {
   "cell_type": "code",
   "execution_count": 6,
   "id": "f51634b4-76cf-4533-81d2-60e1470117dd",
   "metadata": {
    "tags": []
   },
   "outputs": [
    {
     "data": {
      "text/plain": [
       "25×4 Matrix{Float64}:\n",
       "  -50000.0       -1.0   -50000.0       -1.0\n",
       "  -50000.0  -100000.0       -1.0       -1.0\n",
       "  -50000.0       -1.0       -1.0       -1.0\n",
       "  -50000.0       -1.0       -1.0       -1.0\n",
       "  -50000.0       -1.0       -1.0   -50000.0\n",
       "      -1.0       -1.0   -50000.0  -100000.0\n",
       "      -1.0       -1.0       -1.0       -1.0\n",
       "      -1.0     1000.0  -100000.0       -1.0\n",
       "      -1.0       -1.0       -1.0       -1.0\n",
       "      -1.0       -1.0       -1.0   -50000.0\n",
       "      -1.0       -1.0   -50000.0       -1.0\n",
       " -100000.0       -1.0       -1.0     1000.0\n",
       "      -1.0       -1.0       -1.0       -1.0\n",
       "      -1.0       -1.0     1000.0       -1.0\n",
       "      -1.0       -1.0       -1.0   -50000.0\n",
       "      -1.0       -1.0   -50000.0       -1.0\n",
       "      -1.0       -1.0       -1.0       -1.0\n",
       "    1000.0       -1.0       -1.0       -1.0\n",
       "      -1.0       -1.0       -1.0       -1.0\n",
       "      -1.0       -1.0       -1.0   -50000.0\n",
       "      -1.0   -50000.0   -50000.0       -1.0\n",
       "      -1.0   -50000.0       -1.0       -1.0\n",
       "      -1.0   -50000.0       -1.0       -1.0\n",
       "      -1.0   -50000.0       -1.0       -1.0\n",
       "      -1.0   -50000.0       -1.0   -50000.0"
      ]
     },
     "execution_count": 6,
     "metadata": {},
     "output_type": "execute_result"
    }
   ],
   "source": [
    "R = zeros(nstates, nactions);\n",
    "fill!(R, 0.0)\n",
    "for s ∈ 𝒮\n",
    "    for a ∈ 𝒜\n",
    "        \n",
    "        Δ = world.moves[a];\n",
    "        current_position = world.coordinates[s]\n",
    "        new_position =  current_position .+ Δ\n",
    "        if (haskey(world.states, new_position) == true)\n",
    "            if (haskey(rewards, new_position) == true)\n",
    "                R[s,a] = rewards[new_position];\n",
    "            else\n",
    "                R[s,a] = -1.0;\n",
    "            end\n",
    "        else\n",
    "            R[s,a] = -50000.0; # we are off the grid, big negative penalty\n",
    "        end\n",
    "    end\n",
    "end\n",
    "R"
   ]
  },
  {
   "cell_type": "code",
   "execution_count": 7,
   "id": "13d92d6f-fcd5-44be-acc3-58a275d2987e",
   "metadata": {
    "tags": []
   },
   "outputs": [],
   "source": [
    "T = Array{Float64,3}(undef, nstates, nstates, nactions);\n",
    "fill!(T, 0.0)\n",
    "for i ∈ 1:nactions\n",
    "    \n",
    "    aᵢ = 𝒜[i];\n",
    "    Δ = world.moves[aᵢ];\n",
    "    \n",
    "    for s ∈ 𝒮\n",
    "        current_position = world.coordinates[s]\n",
    "        new_position =  current_position .+ Δ\n",
    "        if (haskey(world.states, new_position) == true && \n",
    "                in(current_position, absorbing_state_set) == false)\n",
    "            s′ = world.states[new_position];\n",
    "            T[s, s′,  aᵢ] = 1.0\n",
    "        else\n",
    "            T[s, s,  aᵢ] = 1.0\n",
    "        end\n",
    "    end\n",
    "end"
   ]
  },
  {
   "cell_type": "code",
   "execution_count": 15,
   "id": "ec0cbda2-201a-4291-a103-b7452cd18bdf",
   "metadata": {
    "tags": []
   },
   "outputs": [
    {
     "data": {
      "text/plain": [
       "25-element Vector{Float64}:\n",
       " 0.0\n",
       " 0.0\n",
       " 0.0\n",
       " 0.0\n",
       " 0.0\n",
       " 0.0\n",
       " 1.0\n",
       " 0.0\n",
       " 0.0\n",
       " 0.0\n",
       " 0.0\n",
       " 0.0\n",
       " 0.0\n",
       " 0.0\n",
       " 0.0\n",
       " 0.0\n",
       " 0.0\n",
       " 0.0\n",
       " 0.0\n",
       " 0.0\n",
       " 0.0\n",
       " 0.0\n",
       " 0.0\n",
       " 0.0\n",
       " 0.0"
      ]
     },
     "execution_count": 15,
     "metadata": {},
     "output_type": "execute_result"
    }
   ],
   "source": [
    "T[7,1:end,1]"
   ]
  },
  {
   "cell_type": "code",
   "execution_count": 9,
   "id": "ef79abec-c27e-49ac-acf4-be56211c3f58",
   "metadata": {
    "tags": []
   },
   "outputs": [],
   "source": [
    "m = VLDecisionsPackage.build(MyMDPProblemModel, \n",
    "    (𝒮 = 𝒮, 𝒜 = 𝒜, T = T, R = R, γ = γ));"
   ]
  },
  {
   "cell_type": "code",
   "execution_count": 10,
   "id": "c50a8314-d55e-4f0c-981b-f7a406843ca0",
   "metadata": {
    "tags": []
   },
   "outputs": [],
   "source": [
    "value_iteration_model = MyValueIterationModel(100);"
   ]
  },
  {
   "cell_type": "code",
   "execution_count": 11,
   "id": "3b9b5bc5-d9a3-48c1-8eac-13cb595feea4",
   "metadata": {
    "tags": []
   },
   "outputs": [
    {
     "data": {
      "text/plain": [
       "MyValueFunctionPolicy(MyMDPProblemModel([1, 2, 3, 4, 5, 6, 7, 8, 9, 10  …  16, 17, 18, 19, 20, 21, 22, 23, 24, 25], [1, 2, 3, 4], [1.0 0.0 … 0.0 0.0; 0.0 1.0 … 0.0 0.0; … ; 0.0 0.0 … 0.0 0.0; 0.0 0.0 … 0.0 0.0;;; 0.0 0.0 … 0.0 0.0; 0.0 0.0 … 0.0 0.0; … ; 0.0 0.0 … 1.0 0.0; 0.0 0.0 … 0.0 1.0;;; 1.0 0.0 … 0.0 0.0; 1.0 0.0 … 0.0 0.0; … ; 0.0 0.0 … 0.0 0.0; 0.0 0.0 … 1.0 0.0;;; 0.0 1.0 … 0.0 0.0; 0.0 0.0 … 0.0 0.0; … ; 0.0 0.0 … 0.0 1.0; 0.0 0.0 … 0.0 1.0], [-50000.0 -1.0 -50000.0 -1.0; -50000.0 -100000.0 -1.0 -1.0; … ; -1.0 -50000.0 -1.0 -1.0; -1.0 -50000.0 -1.0 -50000.0], 0.95), [838.3507855844066, 883.5209105844066, 931.0684105844067, 883.5209105844066, 838.3507855844066, 883.5209105844066, -19.8815894155933, 981.1184105844067, 931.0684105844067, 883.5209105844066  …  883.5209105844066, 931.0684105844067, 981.1184105844067, 931.0684105844067, 883.5209105844066, 838.3507855844066, 883.5209105844066, 931.0684105844067, 883.5209105844066, 838.3507855844066])"
      ]
     },
     "execution_count": 11,
     "metadata": {},
     "output_type": "execute_result"
    }
   ],
   "source": [
    "test = VLDecisionsPackage.solve(value_iteration_model, m)"
   ]
  },
  {
   "cell_type": "code",
   "execution_count": 12,
   "id": "0b7e1e12-f637-4ecb-af32-cd0b3fd56fdb",
   "metadata": {
    "tags": []
   },
   "outputs": [
    {
     "data": {
      "text/plain": [
       "25-element Vector{Int64}:\n",
       " 2\n",
       " 4\n",
       " 2\n",
       " 2\n",
       " 2\n",
       " 2\n",
       " 1\n",
       " 2\n",
       " 2\n",
       " 2\n",
       " 4\n",
       " 4\n",
       " 1\n",
       " 3\n",
       " 3\n",
       " 1\n",
       " 1\n",
       " 1\n",
       " 1\n",
       " 1\n",
       " 1\n",
       " 1\n",
       " 1\n",
       " 1\n",
       " 1"
      ]
     },
     "execution_count": 12,
     "metadata": {},
     "output_type": "execute_result"
    }
   ],
   "source": [
    "my_π = Q(m, test.U) |> policy"
   ]
  },
  {
   "cell_type": "code",
   "execution_count": 13,
   "id": "9433b845-d226-4501-9d19-ea4b34efb1e9",
   "metadata": {
    "tags": []
   },
   "outputs": [
    {
     "data": {
      "text/plain": [
       "\"∅\""
      ]
     },
     "execution_count": 13,
     "metadata": {},
     "output_type": "execute_result"
    }
   ],
   "source": [
    "move_arrows = Dict{Int,Any}();\n",
    "move_arrows[1] = \"←\"\n",
    "move_arrows[2] = \"→\"\n",
    "move_arrows[3] = \"↓\"\n",
    "move_arrows[4] = \"↑\"\n",
    "move_arrows[5] = \"∅\""
   ]
  },
  {
   "cell_type": "code",
   "execution_count": 14,
   "id": "9aa4ef98-b525-49ca-a414-826122781e4e",
   "metadata": {
    "tags": []
   },
   "outputs": [
    {
     "name": "stdout",
     "output_type": "stream",
     "text": [
      "(1, 1) → (2, 1)\n",
      "(1, 2) ↑ (1, 3)\n",
      "(1, 3) → (2, 3)\n",
      "(1, 4) → (2, 4)\n",
      "(1, 5) → (2, 5)\n",
      "(2, 1) → (3, 1)\n",
      "(2, 2) ∅\n",
      "(2, 3) → (3, 3)\n",
      "(2, 4) → (3, 4)\n",
      "(2, 5) → (3, 5)\n",
      "(3, 1) ↑ (3, 2)\n",
      "(3, 2) ↑ (3, 3)\n",
      "(3, 3) ∅\n",
      "(3, 4) ↓ (3, 3)\n",
      "(3, 5) ↓ (3, 4)\n",
      "(4, 1) ← (3, 1)\n",
      "(4, 2) ← (3, 2)\n",
      "(4, 3) ← (3, 3)\n",
      "(4, 4) ← (3, 4)\n",
      "(4, 5) ← (3, 5)\n",
      "(5, 1) ← (4, 1)\n",
      "(5, 2) ← (4, 2)\n",
      "(5, 3) ← (4, 3)\n",
      "(5, 4) ← (4, 4)\n",
      "(5, 5) ← (4, 5)\n"
     ]
    }
   ],
   "source": [
    "for s ∈ 𝒮\n",
    "    a = my_π[s];\n",
    "    Δ = world.moves[a];\n",
    "    current_position = world.coordinates[s]\n",
    "    new_position =  current_position .+ Δ\n",
    "    \n",
    "    if (in(current_position, absorbing_state_set) == true)\n",
    "        println(\"$(current_position) $(move_arrows[5])\")\n",
    "    else\n",
    "        println(\"$(current_position) $(move_arrows[a]) $(new_position)\")\n",
    "    end\n",
    "end"
   ]
  },
  {
   "cell_type": "code",
   "execution_count": null,
   "id": "8419c873-7193-44cf-a90b-6b9643e9e7d1",
   "metadata": {},
   "outputs": [],
   "source": []
  }
 ],
 "metadata": {
  "kernelspec": {
   "display_name": "Julia 1.9.3",
   "language": "julia",
   "name": "julia-1.9"
  },
  "language_info": {
   "file_extension": ".jl",
   "mimetype": "application/julia",
   "name": "julia",
   "version": "1.9.3"
  }
 },
 "nbformat": 4,
 "nbformat_minor": 5
}
